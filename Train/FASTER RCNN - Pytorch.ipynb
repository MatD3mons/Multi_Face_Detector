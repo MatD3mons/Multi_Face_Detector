{
 "cells": [
  {
   "cell_type": "code",
   "execution_count": 1,
   "metadata": {},
   "outputs": [],
   "source": [
    "import pycocotools\n",
    "import os\n",
    "import numpy as np\n",
    "import torch\n",
    "import torch.utils.data\n",
    "import cv2\n",
    "import pandas as pd \n",
    "from torchvision.models.detection.faster_rcnn import FastRCNNPredictor\n",
    "import torch\n",
    "from torch import nn\n",
    "import torchvision.models as models\n",
    "from torch.utils.data import DataLoader, SequentialSampler, RandomSampler"
   ]
  },
  {
   "cell_type": "code",
   "execution_count": 2,
   "metadata": {},
   "outputs": [],
   "source": [
    "from engine import train_one_epoch, evaluate\n",
    "import utils\n",
    "import transforms as T"
   ]
  },
  {
   "cell_type": "code",
   "execution_count": 3,
   "metadata": {},
   "outputs": [],
   "source": [
    "def parse_one_annot(path):\n",
    "    data = {}\n",
    "    for i,e in enumerate(os.listdir(path)):\n",
    "        data_bach = pd.read_csv(os.path.join(path,e))\n",
    "        data_bach = data_bach.values[0]\n",
    "        x1 = int((data_bach[0].split(\" \")[0]).split(\".\")[0])\n",
    "        y1 = int((data_bach[0].split(\" \")[1]).split(\".\")[0])\n",
    "        x2 = int((data_bach[0].split(\" \")[2]).split(\".\")[0])\n",
    "        y2 = int((data_bach[0].split(\" \")[3]).split(\".\")[0])\n",
    "        data[e] = [x1,y1,x2,y2]\n",
    "    return data"
   ]
  },
  {
   "cell_type": "code",
   "execution_count": 4,
   "metadata": {},
   "outputs": [],
   "source": [
    "#a = parse_one_annot(\"Label\")\n",
    "#a['0.csv']"
   ]
  },
  {
   "cell_type": "code",
   "execution_count": 5,
   "metadata": {},
   "outputs": [],
   "source": [
    "class Dataset(torch.utils.data.Dataset):\n",
    "    \n",
    "    def __init__(self, image, label, transforms=None):\n",
    "        self.image = image\n",
    "        self.transforms = transforms\n",
    "        self.imgs = sorted(os.listdir(image))\n",
    "        self.label =  parse_one_annot(label)\n",
    "    \n",
    "    def __getitem__(self, idx):\n",
    "            # load images and bounding boxes\n",
    "        img_path = os.path.join(self.image, self.imgs[idx])\n",
    "        img = cv2.imread(img_path, cv2.COLOR_BGR2RGB)\n",
    "        box_list = self.label[self.imgs[idx].split(\".\")[0]+\".csv\"]\n",
    "        box_list = np.expand_dims(box_list, axis=0)\n",
    "        boxes = torch.as_tensor(box_list, dtype=torch.float32)\n",
    "        num_objs = len(box_list)\n",
    "            # there is only one class\n",
    "        labels = torch.ones((num_objs,), dtype=torch.int64)\n",
    "        image_id = torch.tensor([idx])\n",
    "        area = (boxes[:,3] - boxes[:,1]) * (boxes[:,2] - boxes[:,0])\n",
    "            # suppose all instances are not crowd\n",
    "        iscrowd = torch.zeros((num_objs,), dtype=torch.int64)\n",
    "        target = {}\n",
    "        target[\"boxes\"] = boxes\n",
    "        target[\"labels\"] = labels\n",
    "        target[\"image_id\"] = image_id\n",
    "        target[\"area\"] = area\n",
    "        target[\"iscrowd\"] = iscrowd\n",
    "        if self.transforms is not None:\n",
    "            img, target = self.transforms(img, target)\n",
    "        return img, target\n",
    "        \n",
    "    def __len__(self):\n",
    "        return len(self.imgs)"
   ]
  },
  {
   "cell_type": "code",
   "execution_count": 6,
   "metadata": {},
   "outputs": [
    {
     "data": {
      "text/plain": [
       "(745, 500, 3)"
      ]
     },
     "execution_count": 6,
     "metadata": {},
     "output_type": "execute_result"
    }
   ],
   "source": [
    "dataset = Dataset(\"Image\",\"Label\")\n",
    "dataset.__getitem__(0)[0].shape"
   ]
  },
  {
   "cell_type": "code",
   "execution_count": null,
   "metadata": {},
   "outputs": [],
   "source": []
  },
  {
   "cell_type": "code",
   "execution_count": 7,
   "metadata": {},
   "outputs": [],
   "source": [
    "def get_model(num_classes):\n",
    "        # load an object detection model pre-trained on COCO\n",
    "    model = models.detection.fasterrcnn_resnet50_fpn(pretrained=True)# get the number of input features for the classifier\n",
    "    in_features = model.roi_heads.box_predictor.cls_score.in_features\n",
    "        # replace the pre-trained head with a new on\n",
    "    model.roi_heads.box_predictor = FastRCNNPredictor(in_features,num_classes)\n",
    "    return model"
   ]
  },
  {
   "cell_type": "code",
   "execution_count": 8,
   "metadata": {},
   "outputs": [],
   "source": [
    "def get_transform(train):\n",
    "    transforms = []\n",
    "        # converts the image, a PIL image, into a PyTorch Tensor\n",
    "    transforms.append(T.ToTensor())\n",
    "    if train:\n",
    "        # during training, randomly flip the training images\n",
    "        # and ground-truth for data augmentation\n",
    "        transforms.append(T.RandomHorizontalFlip(0.5))\n",
    "    return T.Compose(transforms)"
   ]
  },
  {
   "cell_type": "code",
   "execution_count": 9,
   "metadata": {},
   "outputs": [
    {
     "name": "stdout",
     "output_type": "stream",
     "text": [
      "3343\n",
      "836\n",
      "We have: 8359 examples, 3343 are training and 836 testing\n"
     ]
    }
   ],
   "source": [
    "# use our dataset and defined transformationsdataset\n",
    "dataset = Dataset(\"Image\",\"Label\",get_transform(train=True))\n",
    "dataset_test = Dataset(\"Image\",\"Label\",get_transform(train=False))\n",
    "\n",
    "# split the dataset in train and test set\n",
    "torch.manual_seed(1)\n",
    "indices = torch.randperm(len(dataset)).tolist()\n",
    "a = int(len(dataset)*4/10)\n",
    "print(a)\n",
    "b =int(len(dataset)/2 - a)\n",
    "print(b)\n",
    "dataset = torch.utils.data.Subset(dataset, indices[:a])\n",
    "dataset_test = torch.utils.data.Subset(dataset_test, indices[-b:])                       \n",
    "\n",
    "# define training and validation data loaders\n",
    "data_loader = torch.utils.data.DataLoader(dataset, batch_size=1, shuffle=False,num_workers=0,collate_fn=utils.collate_fn)\n",
    "data_loader_test = torch.utils.data.DataLoader(dataset_test, batch_size=1, shuffle=False, num_workers=0,collate_fn=utils.collate_fn)\n",
    "\n",
    "print(\"We have: {} examples, {} are training and {} testing\".format(len(indices), len(dataset), len(dataset_test)))"
   ]
  },
  {
   "cell_type": "code",
   "execution_count": 10,
   "metadata": {},
   "outputs": [
    {
     "data": {
      "text/plain": [
       "torch.Size([3, 355, 550])"
      ]
     },
     "execution_count": 10,
     "metadata": {},
     "output_type": "execute_result"
    }
   ],
   "source": [
    "dataset.__getitem__(0)[0].shape"
   ]
  },
  {
   "cell_type": "code",
   "execution_count": 11,
   "metadata": {},
   "outputs": [
    {
     "data": {
      "text/plain": [
       "True"
      ]
     },
     "execution_count": 11,
     "metadata": {},
     "output_type": "execute_result"
    }
   ],
   "source": [
    "torch.cuda.is_available()"
   ]
  },
  {
   "cell_type": "code",
   "execution_count": 12,
   "metadata": {},
   "outputs": [],
   "source": [
    "device = torch.device('cuda') if torch.cuda.is_available() else torch.device('cpu')\n",
    "\n",
    "# our dataset has two classes only - raccoon and not racoon\n",
    "num_classes = 2\n",
    "# get the model using our helper function\n",
    "model = get_model(num_classes)\n",
    "# move model to the right device\n",
    "model.to(device)# construct an optimizer\n",
    "params = [p for p in model.parameters() if p.requires_grad]\n",
    "optimizer = torch.optim.SGD(params, lr=0.005,momentum=0.9, weight_decay=0.0005)\n",
    "# and a learning rate scheduler which decreases the learning rate by # 10x every 3 epoch\n",
    "lr_scheduler = torch.optim.lr_scheduler.StepLR(optimizer,step_size=3,gamma=0.1)"
   ]
  },
  {
   "cell_type": "code",
   "execution_count": 25,
   "metadata": {},
   "outputs": [
    {
     "name": "stdout",
     "output_type": "stream",
     "text": [
      "Epoch: [0]  [   0/3343]  eta: 3:20:50  lr: 0.000010  loss: 0.0804 (0.0804)  loss_classifier: 0.0304 (0.0304)  loss_box_reg: 0.0490 (0.0490)  loss_objectness: 0.0003 (0.0003)  loss_rpn_box_reg: 0.0007 (0.0007)  time: 3.6047  data: 0.0080  max mem: 1734\n",
      "Epoch: [0]  [  10/3343]  eta: 2:27:11  lr: 0.000060  loss: 0.0447 (0.0458)  loss_classifier: 0.0111 (0.0127)  loss_box_reg: 0.0353 (0.0325)  loss_objectness: 0.0001 (0.0001)  loss_rpn_box_reg: 0.0004 (0.0004)  time: 2.6498  data: 0.0171  max mem: 1765\n",
      "Epoch: [0]  [  20/3343]  eta: 1:28:14  lr: 0.000110  loss: 0.0375 (0.0455)  loss_classifier: 0.0109 (0.0138)  loss_box_reg: 0.0223 (0.0310)  loss_objectness: 0.0001 (0.0001)  loss_rpn_box_reg: 0.0003 (0.0005)  time: 1.4926  data: 0.0116  max mem: 1819\n",
      "Epoch: [0]  [  30/3343]  eta: 1:07:21  lr: 0.000160  loss: 0.0400 (0.0560)  loss_classifier: 0.0110 (0.0193)  loss_box_reg: 0.0254 (0.0354)  loss_objectness: 0.0002 (0.0004)  loss_rpn_box_reg: 0.0004 (0.0009)  time: 0.4334  data: 0.0058  max mem: 1819\n",
      "Epoch: [0]  [  40/3343]  eta: 0:56:34  lr: 0.000210  loss: 0.0405 (0.0535)  loss_classifier: 0.0145 (0.0191)  loss_box_reg: 0.0254 (0.0333)  loss_objectness: 0.0001 (0.0003)  loss_rpn_box_reg: 0.0003 (0.0008)  time: 0.4340  data: 0.0082  max mem: 1821\n",
      "Epoch: [0]  [  50/3343]  eta: 0:50:00  lr: 0.000260  loss: 0.0397 (0.0508)  loss_classifier: 0.0119 (0.0185)  loss_box_reg: 0.0200 (0.0313)  loss_objectness: 0.0001 (0.0003)  loss_rpn_box_reg: 0.0003 (0.0007)  time: 0.4323  data: 0.0088  max mem: 1821\n",
      "Epoch: [0]  [  60/3343]  eta: 0:45:24  lr: 0.000310  loss: 0.0393 (0.0520)  loss_classifier: 0.0111 (0.0191)  loss_box_reg: 0.0210 (0.0312)  loss_objectness: 0.0001 (0.0010)  loss_rpn_box_reg: 0.0004 (0.0007)  time: 0.4239  data: 0.0061  max mem: 1821\n",
      "Epoch: [0]  [  70/3343]  eta: 0:42:02  lr: 0.000360  loss: 0.0429 (0.0516)  loss_classifier: 0.0123 (0.0188)  loss_box_reg: 0.0267 (0.0304)  loss_objectness: 0.0001 (0.0017)  loss_rpn_box_reg: 0.0003 (0.0007)  time: 0.4129  data: 0.0070  max mem: 1821\n",
      "Epoch: [0]  [  80/3343]  eta: 0:39:27  lr: 0.000410  loss: 0.0339 (0.0496)  loss_classifier: 0.0107 (0.0178)  loss_box_reg: 0.0208 (0.0297)  loss_objectness: 0.0001 (0.0015)  loss_rpn_box_reg: 0.0003 (0.0007)  time: 0.4082  data: 0.0081  max mem: 1821\n",
      "Epoch: [0]  [  90/3343]  eta: 0:37:34  lr: 0.000460  loss: 0.0351 (0.0487)  loss_classifier: 0.0106 (0.0170)  loss_box_reg: 0.0242 (0.0296)  loss_objectness: 0.0001 (0.0014)  loss_rpn_box_reg: 0.0003 (0.0007)  time: 0.4174  data: 0.0081  max mem: 1821\n",
      "Epoch: [0]  [ 100/3343]  eta: 0:36:04  lr: 0.000509  loss: 0.0469 (0.0487)  loss_classifier: 0.0113 (0.0172)  loss_box_reg: 0.0277 (0.0295)  loss_objectness: 0.0001 (0.0013)  loss_rpn_box_reg: 0.0004 (0.0007)  time: 0.4310  data: 0.0103  max mem: 1821\n",
      "Epoch: [0]  [ 110/3343]  eta: 0:34:41  lr: 0.000559  loss: 0.0434 (0.0482)  loss_classifier: 0.0126 (0.0169)  loss_box_reg: 0.0248 (0.0295)  loss_objectness: 0.0001 (0.0012)  loss_rpn_box_reg: 0.0003 (0.0007)  time: 0.4199  data: 0.0093  max mem: 1821\n",
      "Epoch: [0]  [ 120/3343]  eta: 0:33:39  lr: 0.000609  loss: 0.0329 (0.0472)  loss_classifier: 0.0094 (0.0167)  loss_box_reg: 0.0179 (0.0287)  loss_objectness: 0.0001 (0.0011)  loss_rpn_box_reg: 0.0003 (0.0006)  time: 0.4210  data: 0.0126  max mem: 1821\n",
      "Epoch: [0]  [ 130/3343]  eta: 0:32:39  lr: 0.000659  loss: 0.0363 (0.0479)  loss_classifier: 0.0112 (0.0172)  loss_box_reg: 0.0229 (0.0290)  loss_objectness: 0.0001 (0.0010)  loss_rpn_box_reg: 0.0003 (0.0006)  time: 0.4207  data: 0.0135  max mem: 1821\n",
      "Epoch: [0]  [ 140/3343]  eta: 0:31:52  lr: 0.000709  loss: 0.0432 (0.0482)  loss_classifier: 0.0131 (0.0171)  loss_box_reg: 0.0319 (0.0294)  loss_objectness: 0.0001 (0.0010)  loss_rpn_box_reg: 0.0002 (0.0006)  time: 0.4187  data: 0.0091  max mem: 1821\n",
      "Epoch: [0]  [ 150/3343]  eta: 0:31:09  lr: 0.000759  loss: 0.0507 (0.0496)  loss_classifier: 0.0176 (0.0176)  loss_box_reg: 0.0364 (0.0303)  loss_objectness: 0.0001 (0.0010)  loss_rpn_box_reg: 0.0005 (0.0007)  time: 0.4254  data: 0.0104  max mem: 1821\n",
      "Epoch: [0]  [ 160/3343]  eta: 0:30:32  lr: 0.000809  loss: 0.0507 (0.0497)  loss_classifier: 0.0155 (0.0176)  loss_box_reg: 0.0345 (0.0305)  loss_objectness: 0.0001 (0.0009)  loss_rpn_box_reg: 0.0006 (0.0006)  time: 0.4244  data: 0.0093  max mem: 1821\n",
      "Epoch: [0]  [ 170/3343]  eta: 0:30:01  lr: 0.000859  loss: 0.0459 (0.0494)  loss_classifier: 0.0130 (0.0174)  loss_box_reg: 0.0325 (0.0305)  loss_objectness: 0.0001 (0.0009)  loss_rpn_box_reg: 0.0006 (0.0007)  time: 0.4335  data: 0.0092  max mem: 1821\n",
      "Epoch: [0]  [ 180/3343]  eta: 0:29:34  lr: 0.000909  loss: 0.0472 (0.0502)  loss_classifier: 0.0151 (0.0178)  loss_box_reg: 0.0325 (0.0309)  loss_objectness: 0.0001 (0.0008)  loss_rpn_box_reg: 0.0006 (0.0007)  time: 0.4433  data: 0.0128  max mem: 1821\n",
      "Epoch: [0]  [ 190/3343]  eta: 0:29:12  lr: 0.000959  loss: 0.0580 (0.0513)  loss_classifier: 0.0185 (0.0183)  loss_box_reg: 0.0292 (0.0315)  loss_objectness: 0.0001 (0.0008)  loss_rpn_box_reg: 0.0004 (0.0007)  time: 0.4539  data: 0.0123  max mem: 1821\n",
      "Epoch: [0]  [ 200/3343]  eta: 0:28:47  lr: 0.001009  loss: 0.0498 (0.0510)  loss_classifier: 0.0149 (0.0181)  loss_box_reg: 0.0322 (0.0315)  loss_objectness: 0.0001 (0.0008)  loss_rpn_box_reg: 0.0003 (0.0007)  time: 0.4462  data: 0.0088  max mem: 1821\n",
      "Epoch: [0]  [ 210/3343]  eta: 0:28:26  lr: 0.001059  loss: 0.0457 (0.0518)  loss_classifier: 0.0109 (0.0183)  loss_box_reg: 0.0322 (0.0320)  loss_objectness: 0.0001 (0.0008)  loss_rpn_box_reg: 0.0003 (0.0007)  time: 0.4381  data: 0.0098  max mem: 1821\n",
      "Epoch: [0]  [ 220/3343]  eta: 0:28:04  lr: 0.001109  loss: 0.0400 (0.0515)  loss_classifier: 0.0118 (0.0184)  loss_box_reg: 0.0266 (0.0317)  loss_objectness: 0.0001 (0.0008)  loss_rpn_box_reg: 0.0003 (0.0007)  time: 0.4367  data: 0.0098  max mem: 1821\n",
      "Epoch: [0]  [ 230/3343]  eta: 0:27:45  lr: 0.001159  loss: 0.0363 (0.0510)  loss_classifier: 0.0118 (0.0182)  loss_box_reg: 0.0259 (0.0314)  loss_objectness: 0.0001 (0.0007)  loss_rpn_box_reg: 0.0003 (0.0007)  time: 0.4352  data: 0.0084  max mem: 1821\n",
      "Epoch: [0]  [ 240/3343]  eta: 0:27:29  lr: 0.001209  loss: 0.0351 (0.0504)  loss_classifier: 0.0102 (0.0179)  loss_box_reg: 0.0210 (0.0310)  loss_objectness: 0.0001 (0.0007)  loss_rpn_box_reg: 0.0003 (0.0007)  time: 0.4437  data: 0.0087  max mem: 1821\n",
      "Epoch: [0]  [ 250/3343]  eta: 0:27:12  lr: 0.001259  loss: 0.0343 (0.0504)  loss_classifier: 0.0104 (0.0180)  loss_box_reg: 0.0219 (0.0311)  loss_objectness: 0.0001 (0.0007)  loss_rpn_box_reg: 0.0002 (0.0007)  time: 0.4444  data: 0.0083  max mem: 1821\n",
      "Epoch: [0]  [ 260/3343]  eta: 0:26:54  lr: 0.001309  loss: 0.0435 (0.0504)  loss_classifier: 0.0120 (0.0178)  loss_box_reg: 0.0325 (0.0312)  loss_objectness: 0.0001 (0.0007)  loss_rpn_box_reg: 0.0003 (0.0007)  time: 0.4302  data: 0.0087  max mem: 1821\n",
      "Epoch: [0]  [ 270/3343]  eta: 0:26:44  lr: 0.001359  loss: 0.0430 (0.0506)  loss_classifier: 0.0126 (0.0181)  loss_box_reg: 0.0304 (0.0312)  loss_objectness: 0.0001 (0.0007)  loss_rpn_box_reg: 0.0002 (0.0006)  time: 0.4483  data: 0.0128  max mem: 1821\n",
      "Epoch: [0]  [ 280/3343]  eta: 0:26:31  lr: 0.001409  loss: 0.0357 (0.0502)  loss_classifier: 0.0133 (0.0179)  loss_box_reg: 0.0226 (0.0310)  loss_objectness: 0.0001 (0.0006)  loss_rpn_box_reg: 0.0002 (0.0006)  time: 0.4679  data: 0.0143  max mem: 1821\n",
      "Epoch: [0]  [ 290/3343]  eta: 0:26:20  lr: 0.001459  loss: 0.0363 (0.0501)  loss_classifier: 0.0104 (0.0179)  loss_box_reg: 0.0234 (0.0309)  loss_objectness: 0.0001 (0.0006)  loss_rpn_box_reg: 0.0003 (0.0006)  time: 0.4584  data: 0.0114  max mem: 1821\n",
      "Epoch: [0]  [ 300/3343]  eta: 0:26:10  lr: 0.001508  loss: 0.0364 (0.0499)  loss_classifier: 0.0095 (0.0177)  loss_box_reg: 0.0265 (0.0309)  loss_objectness: 0.0001 (0.0007)  loss_rpn_box_reg: 0.0004 (0.0006)  time: 0.4629  data: 0.0167  max mem: 1821\n",
      "Epoch: [0]  [ 310/3343]  eta: 0:26:00  lr: 0.001558  loss: 0.0416 (0.0501)  loss_classifier: 0.0106 (0.0176)  loss_box_reg: 0.0272 (0.0312)  loss_objectness: 0.0001 (0.0007)  loss_rpn_box_reg: 0.0004 (0.0006)  time: 0.4711  data: 0.0209  max mem: 1821\n",
      "Epoch: [0]  [ 320/3343]  eta: 0:25:53  lr: 0.001608  loss: 0.0519 (0.0501)  loss_classifier: 0.0111 (0.0175)  loss_box_reg: 0.0330 (0.0313)  loss_objectness: 0.0001 (0.0006)  loss_rpn_box_reg: 0.0005 (0.0006)  time: 0.4814  data: 0.0176  max mem: 1821\n"
     ]
    },
    {
     "name": "stdout",
     "output_type": "stream",
     "text": [
      "Epoch: [0]  [ 330/3343]  eta: 0:25:41  lr: 0.001658  loss: 0.0566 (0.0509)  loss_classifier: 0.0109 (0.0178)  loss_box_reg: 0.0364 (0.0318)  loss_objectness: 0.0001 (0.0007)  loss_rpn_box_reg: 0.0005 (0.0007)  time: 0.4633  data: 0.0131  max mem: 1821\n",
      "Epoch: [0]  [ 340/3343]  eta: 0:25:31  lr: 0.001708  loss: 0.0460 (0.0510)  loss_classifier: 0.0121 (0.0179)  loss_box_reg: 0.0282 (0.0318)  loss_objectness: 0.0001 (0.0007)  loss_rpn_box_reg: 0.0004 (0.0007)  time: 0.4503  data: 0.0116  max mem: 1821\n",
      "Epoch: [0]  [ 350/3343]  eta: 0:25:22  lr: 0.001758  loss: 0.0418 (0.0509)  loss_classifier: 0.0139 (0.0179)  loss_box_reg: 0.0266 (0.0316)  loss_objectness: 0.0001 (0.0007)  loss_rpn_box_reg: 0.0003 (0.0007)  time: 0.4601  data: 0.0151  max mem: 1821\n",
      "Epoch: [0]  [ 360/3343]  eta: 0:25:12  lr: 0.001808  loss: 0.0375 (0.0507)  loss_classifier: 0.0133 (0.0178)  loss_box_reg: 0.0223 (0.0315)  loss_objectness: 0.0001 (0.0006)  loss_rpn_box_reg: 0.0003 (0.0007)  time: 0.4538  data: 0.0127  max mem: 1821\n",
      "Epoch: [0]  [ 370/3343]  eta: 0:25:04  lr: 0.001858  loss: 0.0338 (0.0503)  loss_classifier: 0.0133 (0.0178)  loss_box_reg: 0.0220 (0.0313)  loss_objectness: 0.0001 (0.0006)  loss_rpn_box_reg: 0.0004 (0.0007)  time: 0.4622  data: 0.0115  max mem: 1821\n",
      "Epoch: [0]  [ 380/3343]  eta: 0:24:55  lr: 0.001908  loss: 0.0402 (0.0504)  loss_classifier: 0.0130 (0.0177)  loss_box_reg: 0.0283 (0.0314)  loss_objectness: 0.0001 (0.0006)  loss_rpn_box_reg: 0.0004 (0.0007)  time: 0.4641  data: 0.0129  max mem: 1821\n",
      "Epoch: [0]  [ 390/3343]  eta: 0:24:46  lr: 0.001958  loss: 0.0435 (0.0510)  loss_classifier: 0.0131 (0.0185)  loss_box_reg: 0.0267 (0.0312)  loss_objectness: 0.0001 (0.0006)  loss_rpn_box_reg: 0.0003 (0.0007)  time: 0.4525  data: 0.0105  max mem: 1821\n",
      "Epoch: [0]  [ 400/3343]  eta: 0:24:36  lr: 0.002008  loss: 0.0477 (0.0514)  loss_classifier: 0.0188 (0.0187)  loss_box_reg: 0.0233 (0.0315)  loss_objectness: 0.0002 (0.0006)  loss_rpn_box_reg: 0.0003 (0.0007)  time: 0.4472  data: 0.0115  max mem: 1821\n",
      "Epoch: [0]  [ 410/3343]  eta: 0:24:28  lr: 0.002058  loss: 0.0360 (0.0511)  loss_classifier: 0.0129 (0.0185)  loss_box_reg: 0.0241 (0.0313)  loss_objectness: 0.0001 (0.0006)  loss_rpn_box_reg: 0.0004 (0.0007)  time: 0.4481  data: 0.0105  max mem: 1821\n",
      "Epoch: [0]  [ 420/3343]  eta: 0:24:20  lr: 0.002108  loss: 0.0340 (0.0511)  loss_classifier: 0.0108 (0.0185)  loss_box_reg: 0.0241 (0.0313)  loss_objectness: 0.0001 (0.0006)  loss_rpn_box_reg: 0.0003 (0.0007)  time: 0.4594  data: 0.0130  max mem: 1821\n",
      "Epoch: [0]  [ 430/3343]  eta: 0:24:13  lr: 0.002158  loss: 0.0411 (0.0510)  loss_classifier: 0.0129 (0.0185)  loss_box_reg: 0.0218 (0.0312)  loss_objectness: 0.0001 (0.0006)  loss_rpn_box_reg: 0.0001 (0.0007)  time: 0.4645  data: 0.0135  max mem: 1821\n",
      "Epoch: [0]  [ 440/3343]  eta: 0:24:07  lr: 0.002208  loss: 0.0437 (0.0510)  loss_classifier: 0.0130 (0.0184)  loss_box_reg: 0.0282 (0.0312)  loss_objectness: 0.0001 (0.0006)  loss_rpn_box_reg: 0.0002 (0.0007)  time: 0.4768  data: 0.0090  max mem: 1821\n",
      "Epoch: [0]  [ 450/3343]  eta: 0:24:00  lr: 0.002258  loss: 0.0442 (0.0509)  loss_classifier: 0.0117 (0.0183)  loss_box_reg: 0.0324 (0.0312)  loss_objectness: 0.0001 (0.0006)  loss_rpn_box_reg: 0.0003 (0.0007)  time: 0.4744  data: 0.0118  max mem: 1821\n",
      "Epoch: [0]  [ 460/3343]  eta: 0:23:52  lr: 0.002308  loss: 0.0486 (0.0509)  loss_classifier: 0.0126 (0.0183)  loss_box_reg: 0.0298 (0.0313)  loss_objectness: 0.0001 (0.0006)  loss_rpn_box_reg: 0.0005 (0.0007)  time: 0.4523  data: 0.0127  max mem: 1821\n",
      "Epoch: [0]  [ 470/3343]  eta: 0:23:42  lr: 0.002358  loss: 0.0454 (0.0510)  loss_classifier: 0.0126 (0.0183)  loss_box_reg: 0.0298 (0.0313)  loss_objectness: 0.0002 (0.0007)  loss_rpn_box_reg: 0.0006 (0.0007)  time: 0.4286  data: 0.0089  max mem: 1821\n",
      "Epoch: [0]  [ 480/3343]  eta: 0:23:35  lr: 0.002408  loss: 0.0434 (0.0517)  loss_classifier: 0.0114 (0.0188)  loss_box_reg: 0.0255 (0.0314)  loss_objectness: 0.0002 (0.0008)  loss_rpn_box_reg: 0.0005 (0.0007)  time: 0.4362  data: 0.0098  max mem: 1821\n",
      "Epoch: [0]  [ 490/3343]  eta: 0:23:29  lr: 0.002458  loss: 0.0434 (0.0518)  loss_classifier: 0.0139 (0.0187)  loss_box_reg: 0.0283 (0.0316)  loss_objectness: 0.0001 (0.0008)  loss_rpn_box_reg: 0.0004 (0.0007)  time: 0.4720  data: 0.0103  max mem: 1821\n",
      "Epoch: [0]  [ 500/3343]  eta: 0:23:24  lr: 0.002507  loss: 0.0552 (0.0518)  loss_classifier: 0.0157 (0.0187)  loss_box_reg: 0.0358 (0.0316)  loss_objectness: 0.0001 (0.0007)  loss_rpn_box_reg: 0.0004 (0.0007)  time: 0.4888  data: 0.0136  max mem: 1821\n",
      "Epoch: [0]  [ 510/3343]  eta: 0:23:18  lr: 0.002557  loss: 0.0544 (0.0517)  loss_classifier: 0.0112 (0.0185)  loss_box_reg: 0.0382 (0.0317)  loss_objectness: 0.0001 (0.0007)  loss_rpn_box_reg: 0.0003 (0.0007)  time: 0.4828  data: 0.0144  max mem: 1821\n",
      "Epoch: [0]  [ 520/3343]  eta: 0:23:12  lr: 0.002607  loss: 0.0444 (0.0518)  loss_classifier: 0.0101 (0.0186)  loss_box_reg: 0.0337 (0.0318)  loss_objectness: 0.0001 (0.0007)  loss_rpn_box_reg: 0.0003 (0.0007)  time: 0.4715  data: 0.0137  max mem: 1821\n",
      "Epoch: [0]  [ 530/3343]  eta: 0:23:05  lr: 0.002657  loss: 0.0400 (0.0517)  loss_classifier: 0.0109 (0.0184)  loss_box_reg: 0.0268 (0.0318)  loss_objectness: 0.0001 (0.0007)  loss_rpn_box_reg: 0.0004 (0.0007)  time: 0.4660  data: 0.0146  max mem: 1821\n",
      "Epoch: [0]  [ 540/3343]  eta: 0:23:00  lr: 0.002707  loss: 0.0400 (0.0517)  loss_classifier: 0.0112 (0.0184)  loss_box_reg: 0.0268 (0.0318)  loss_objectness: 0.0002 (0.0007)  loss_rpn_box_reg: 0.0004 (0.0007)  time: 0.4790  data: 0.0141  max mem: 1821\n",
      "Epoch: [0]  [ 550/3343]  eta: 0:22:53  lr: 0.002757  loss: 0.0398 (0.0515)  loss_classifier: 0.0143 (0.0184)  loss_box_reg: 0.0231 (0.0317)  loss_objectness: 0.0002 (0.0007)  loss_rpn_box_reg: 0.0006 (0.0007)  time: 0.4727  data: 0.0133  max mem: 1821\n",
      "Epoch: [0]  [ 560/3343]  eta: 0:22:47  lr: 0.002807  loss: 0.0383 (0.0513)  loss_classifier: 0.0102 (0.0183)  loss_box_reg: 0.0245 (0.0316)  loss_objectness: 0.0001 (0.0007)  loss_rpn_box_reg: 0.0003 (0.0007)  time: 0.4584  data: 0.0118  max mem: 1822\n",
      "Epoch: [0]  [ 570/3343]  eta: 0:22:40  lr: 0.002857  loss: 0.0383 (0.0511)  loss_classifier: 0.0095 (0.0182)  loss_box_reg: 0.0255 (0.0316)  loss_objectness: 0.0001 (0.0007)  loss_rpn_box_reg: 0.0003 (0.0007)  time: 0.4551  data: 0.0126  max mem: 1822\n",
      "Epoch: [0]  [ 580/3343]  eta: 0:22:35  lr: 0.002907  loss: 0.0403 (0.0514)  loss_classifier: 0.0130 (0.0183)  loss_box_reg: 0.0255 (0.0316)  loss_objectness: 0.0001 (0.0007)  loss_rpn_box_reg: 0.0003 (0.0007)  time: 0.4624  data: 0.0129  max mem: 1822\n",
      "Epoch: [0]  [ 590/3343]  eta: 0:22:28  lr: 0.002957  loss: 0.0508 (0.0514)  loss_classifier: 0.0180 (0.0184)  loss_box_reg: 0.0232 (0.0316)  loss_objectness: 0.0001 (0.0007)  loss_rpn_box_reg: 0.0003 (0.0007)  time: 0.4683  data: 0.0124  max mem: 1822\n",
      "Epoch: [0]  [ 600/3343]  eta: 0:22:22  lr: 0.003007  loss: 0.0499 (0.0513)  loss_classifier: 0.0159 (0.0183)  loss_box_reg: 0.0285 (0.0316)  loss_objectness: 0.0001 (0.0007)  loss_rpn_box_reg: 0.0005 (0.0007)  time: 0.4570  data: 0.0104  max mem: 1822\n",
      "Epoch: [0]  [ 610/3343]  eta: 0:22:16  lr: 0.003057  loss: 0.0499 (0.0513)  loss_classifier: 0.0159 (0.0183)  loss_box_reg: 0.0313 (0.0316)  loss_objectness: 0.0001 (0.0007)  loss_rpn_box_reg: 0.0004 (0.0007)  time: 0.4618  data: 0.0110  max mem: 1822\n",
      "Epoch: [0]  [ 620/3343]  eta: 0:22:09  lr: 0.003107  loss: 0.0447 (0.0512)  loss_classifier: 0.0142 (0.0183)  loss_box_reg: 0.0230 (0.0315)  loss_objectness: 0.0001 (0.0007)  loss_rpn_box_reg: 0.0003 (0.0007)  time: 0.4576  data: 0.0102  max mem: 1822\n",
      "Epoch: [0]  [ 630/3343]  eta: 0:22:02  lr: 0.003157  loss: 0.0414 (0.0511)  loss_classifier: 0.0119 (0.0182)  loss_box_reg: 0.0230 (0.0315)  loss_objectness: 0.0001 (0.0007)  loss_rpn_box_reg: 0.0004 (0.0007)  time: 0.4429  data: 0.0098  max mem: 1822\n",
      "Epoch: [0]  [ 640/3343]  eta: 0:21:56  lr: 0.003207  loss: 0.0395 (0.0511)  loss_classifier: 0.0119 (0.0182)  loss_box_reg: 0.0250 (0.0314)  loss_objectness: 0.0001 (0.0007)  loss_rpn_box_reg: 0.0005 (0.0007)  time: 0.4485  data: 0.0139  max mem: 1822\n",
      "Epoch: [0]  [ 650/3343]  eta: 0:21:50  lr: 0.003257  loss: 0.0383 (0.0511)  loss_classifier: 0.0115 (0.0183)  loss_box_reg: 0.0227 (0.0314)  loss_objectness: 0.0001 (0.0007)  loss_rpn_box_reg: 0.0006 (0.0007)  time: 0.4573  data: 0.0165  max mem: 1822\n"
     ]
    },
    {
     "name": "stdout",
     "output_type": "stream",
     "text": [
      "Epoch: [0]  [ 660/3343]  eta: 0:21:44  lr: 0.003307  loss: 0.0529 (0.0512)  loss_classifier: 0.0146 (0.0183)  loss_box_reg: 0.0296 (0.0315)  loss_objectness: 0.0001 (0.0007)  loss_rpn_box_reg: 0.0006 (0.0007)  time: 0.4538  data: 0.0117  max mem: 1822\n",
      "Epoch: [0]  [ 670/3343]  eta: 0:21:38  lr: 0.003357  loss: 0.0477 (0.0512)  loss_classifier: 0.0124 (0.0182)  loss_box_reg: 0.0310 (0.0315)  loss_objectness: 0.0001 (0.0007)  loss_rpn_box_reg: 0.0004 (0.0007)  time: 0.4676  data: 0.0137  max mem: 1822\n",
      "Epoch: [0]  [ 680/3343]  eta: 0:21:33  lr: 0.003407  loss: 0.0477 (0.0513)  loss_classifier: 0.0122 (0.0183)  loss_box_reg: 0.0328 (0.0316)  loss_objectness: 0.0001 (0.0007)  loss_rpn_box_reg: 0.0005 (0.0007)  time: 0.4703  data: 0.0190  max mem: 1822\n",
      "Epoch: [0]  [ 690/3343]  eta: 0:21:27  lr: 0.003457  loss: 0.0478 (0.0513)  loss_classifier: 0.0125 (0.0183)  loss_box_reg: 0.0328 (0.0316)  loss_objectness: 0.0001 (0.0007)  loss_rpn_box_reg: 0.0004 (0.0007)  time: 0.4600  data: 0.0120  max mem: 1822\n",
      "Epoch: [0]  [ 700/3343]  eta: 0:21:20  lr: 0.003506  loss: 0.0403 (0.0513)  loss_classifier: 0.0126 (0.0182)  loss_box_reg: 0.0287 (0.0317)  loss_objectness: 0.0001 (0.0007)  loss_rpn_box_reg: 0.0004 (0.0007)  time: 0.4504  data: 0.0074  max mem: 1822\n",
      "Epoch: [0]  [ 710/3343]  eta: 0:21:14  lr: 0.003556  loss: 0.0403 (0.0512)  loss_classifier: 0.0126 (0.0182)  loss_box_reg: 0.0287 (0.0316)  loss_objectness: 0.0001 (0.0007)  loss_rpn_box_reg: 0.0008 (0.0007)  time: 0.4512  data: 0.0085  max mem: 1822\n",
      "Epoch: [0]  [ 720/3343]  eta: 0:21:10  lr: 0.003606  loss: 0.0458 (0.0515)  loss_classifier: 0.0150 (0.0184)  loss_box_reg: 0.0258 (0.0317)  loss_objectness: 0.0001 (0.0006)  loss_rpn_box_reg: 0.0004 (0.0008)  time: 0.4835  data: 0.0292  max mem: 1822\n",
      "Epoch: [0]  [ 730/3343]  eta: 0:21:05  lr: 0.003656  loss: 0.0524 (0.0515)  loss_classifier: 0.0123 (0.0184)  loss_box_reg: 0.0336 (0.0318)  loss_objectness: 0.0001 (0.0006)  loss_rpn_box_reg: 0.0004 (0.0007)  time: 0.4818  data: 0.0298  max mem: 1822\n",
      "Epoch: [0]  [ 740/3343]  eta: 0:20:58  lr: 0.003706  loss: 0.0500 (0.0515)  loss_classifier: 0.0111 (0.0183)  loss_box_reg: 0.0339 (0.0318)  loss_objectness: 0.0001 (0.0006)  loss_rpn_box_reg: 0.0004 (0.0007)  time: 0.4491  data: 0.0132  max mem: 1822\n",
      "Epoch: [0]  [ 750/3343]  eta: 0:20:52  lr: 0.003756  loss: 0.0462 (0.0515)  loss_classifier: 0.0128 (0.0183)  loss_box_reg: 0.0329 (0.0318)  loss_objectness: 0.0001 (0.0006)  loss_rpn_box_reg: 0.0003 (0.0007)  time: 0.4468  data: 0.0152  max mem: 1822\n",
      "Epoch: [0]  [ 760/3343]  eta: 0:20:47  lr: 0.003806  loss: 0.0530 (0.0516)  loss_classifier: 0.0144 (0.0183)  loss_box_reg: 0.0345 (0.0319)  loss_objectness: 0.0001 (0.0006)  loss_rpn_box_reg: 0.0004 (0.0007)  time: 0.4612  data: 0.0129  max mem: 1822\n",
      "Epoch: [0]  [ 770/3343]  eta: 0:20:43  lr: 0.003856  loss: 0.0521 (0.0515)  loss_classifier: 0.0166 (0.0183)  loss_box_reg: 0.0323 (0.0318)  loss_objectness: 0.0001 (0.0006)  loss_rpn_box_reg: 0.0004 (0.0007)  time: 0.4819  data: 0.0139  max mem: 1822\n",
      "Epoch: [0]  [ 780/3343]  eta: 0:20:37  lr: 0.003906  loss: 0.0489 (0.0517)  loss_classifier: 0.0160 (0.0184)  loss_box_reg: 0.0291 (0.0319)  loss_objectness: 0.0001 (0.0006)  loss_rpn_box_reg: 0.0005 (0.0007)  time: 0.4701  data: 0.0118  max mem: 1822\n",
      "Epoch: [0]  [ 790/3343]  eta: 0:20:31  lr: 0.003956  loss: 0.0484 (0.0516)  loss_classifier: 0.0142 (0.0183)  loss_box_reg: 0.0321 (0.0319)  loss_objectness: 0.0001 (0.0006)  loss_rpn_box_reg: 0.0004 (0.0007)  time: 0.4575  data: 0.0102  max mem: 1822\n",
      "Epoch: [0]  [ 800/3343]  eta: 0:20:27  lr: 0.004006  loss: 0.0429 (0.0515)  loss_classifier: 0.0116 (0.0183)  loss_box_reg: 0.0292 (0.0319)  loss_objectness: 0.0001 (0.0006)  loss_rpn_box_reg: 0.0004 (0.0007)  time: 0.4810  data: 0.0134  max mem: 1822\n",
      "Epoch: [0]  [ 810/3343]  eta: 0:20:21  lr: 0.004056  loss: 0.0421 (0.0516)  loss_classifier: 0.0112 (0.0184)  loss_box_reg: 0.0282 (0.0319)  loss_objectness: 0.0001 (0.0007)  loss_rpn_box_reg: 0.0006 (0.0008)  time: 0.4765  data: 0.0133  max mem: 1822\n",
      "Epoch: [0]  [ 820/3343]  eta: 0:20:16  lr: 0.004106  loss: 0.0427 (0.0520)  loss_classifier: 0.0134 (0.0185)  loss_box_reg: 0.0265 (0.0319)  loss_objectness: 0.0001 (0.0008)  loss_rpn_box_reg: 0.0006 (0.0008)  time: 0.4682  data: 0.0219  max mem: 1822\n",
      "Epoch: [0]  [ 830/3343]  eta: 0:20:10  lr: 0.004156  loss: 0.0733 (0.0523)  loss_classifier: 0.0221 (0.0187)  loss_box_reg: 0.0324 (0.0320)  loss_objectness: 0.0003 (0.0008)  loss_rpn_box_reg: 0.0006 (0.0008)  time: 0.4626  data: 0.0231  max mem: 1822\n",
      "Epoch: [0]  [ 840/3343]  eta: 0:20:04  lr: 0.004206  loss: 0.0752 (0.0524)  loss_classifier: 0.0242 (0.0187)  loss_box_reg: 0.0384 (0.0321)  loss_objectness: 0.0004 (0.0008)  loss_rpn_box_reg: 0.0006 (0.0008)  time: 0.4439  data: 0.0138  max mem: 1822\n",
      "Epoch: [0]  [ 850/3343]  eta: 0:20:00  lr: 0.004256  loss: 0.0497 (0.0524)  loss_classifier: 0.0142 (0.0186)  loss_box_reg: 0.0361 (0.0322)  loss_objectness: 0.0004 (0.0008)  loss_rpn_box_reg: 0.0007 (0.0008)  time: 0.4637  data: 0.0167  max mem: 1822\n",
      "Epoch: [0]  [ 860/3343]  eta: 0:19:54  lr: 0.004306  loss: 0.0499 (0.0525)  loss_classifier: 0.0130 (0.0186)  loss_box_reg: 0.0377 (0.0323)  loss_objectness: 0.0003 (0.0008)  loss_rpn_box_reg: 0.0007 (0.0008)  time: 0.4763  data: 0.0149  max mem: 1822\n",
      "Epoch: [0]  [ 870/3343]  eta: 0:19:50  lr: 0.004356  loss: 0.0547 (0.0524)  loss_classifier: 0.0128 (0.0185)  loss_box_reg: 0.0377 (0.0323)  loss_objectness: 0.0003 (0.0008)  loss_rpn_box_reg: 0.0004 (0.0008)  time: 0.4790  data: 0.0127  max mem: 1822\n",
      "Epoch: [0]  [ 880/3343]  eta: 0:19:45  lr: 0.004406  loss: 0.0470 (0.0524)  loss_classifier: 0.0123 (0.0185)  loss_box_reg: 0.0341 (0.0323)  loss_objectness: 0.0001 (0.0008)  loss_rpn_box_reg: 0.0007 (0.0008)  time: 0.4836  data: 0.0149  max mem: 1822\n",
      "Epoch: [0]  [ 890/3343]  eta: 0:19:40  lr: 0.004456  loss: 0.0443 (0.0524)  loss_classifier: 0.0135 (0.0185)  loss_box_reg: 0.0258 (0.0323)  loss_objectness: 0.0001 (0.0008)  loss_rpn_box_reg: 0.0009 (0.0008)  time: 0.4763  data: 0.0148  max mem: 1822\n",
      "Epoch: [0]  [ 900/3343]  eta: 0:19:34  lr: 0.004505  loss: 0.0424 (0.0525)  loss_classifier: 0.0112 (0.0185)  loss_box_reg: 0.0251 (0.0323)  loss_objectness: 0.0002 (0.0008)  loss_rpn_box_reg: 0.0007 (0.0008)  time: 0.4649  data: 0.0133  max mem: 1822\n",
      "Epoch: [0]  [ 910/3343]  eta: 0:19:28  lr: 0.004555  loss: 0.0405 (0.0525)  loss_classifier: 0.0104 (0.0186)  loss_box_reg: 0.0238 (0.0323)  loss_objectness: 0.0002 (0.0008)  loss_rpn_box_reg: 0.0007 (0.0008)  time: 0.4425  data: 0.0107  max mem: 1822\n",
      "Epoch: [0]  [ 920/3343]  eta: 0:19:22  lr: 0.004605  loss: 0.0513 (0.0525)  loss_classifier: 0.0123 (0.0186)  loss_box_reg: 0.0283 (0.0323)  loss_objectness: 0.0002 (0.0008)  loss_rpn_box_reg: 0.0006 (0.0008)  time: 0.4291  data: 0.0109  max mem: 1822\n",
      "Epoch: [0]  [ 930/3343]  eta: 0:19:17  lr: 0.004655  loss: 0.0574 (0.0527)  loss_classifier: 0.0130 (0.0186)  loss_box_reg: 0.0396 (0.0325)  loss_objectness: 0.0001 (0.0008)  loss_rpn_box_reg: 0.0008 (0.0008)  time: 0.4516  data: 0.0142  max mem: 1822\n",
      "Epoch: [0]  [ 940/3343]  eta: 0:19:12  lr: 0.004705  loss: 0.0634 (0.0530)  loss_classifier: 0.0152 (0.0188)  loss_box_reg: 0.0459 (0.0326)  loss_objectness: 0.0002 (0.0008)  loss_rpn_box_reg: 0.0008 (0.0008)  time: 0.4738  data: 0.0160  max mem: 1822\n",
      "Epoch: [0]  [ 950/3343]  eta: 0:19:07  lr: 0.004755  loss: 0.0553 (0.0530)  loss_classifier: 0.0170 (0.0188)  loss_box_reg: 0.0338 (0.0326)  loss_objectness: 0.0002 (0.0008)  loss_rpn_box_reg: 0.0004 (0.0008)  time: 0.4769  data: 0.0144  max mem: 1822\n",
      "Epoch: [0]  [ 960/3343]  eta: 0:19:03  lr: 0.004805  loss: 0.0505 (0.0530)  loss_classifier: 0.0169 (0.0188)  loss_box_reg: 0.0338 (0.0326)  loss_objectness: 0.0002 (0.0008)  loss_rpn_box_reg: 0.0004 (0.0008)  time: 0.4826  data: 0.0163  max mem: 1822\n",
      "Epoch: [0]  [ 970/3343]  eta: 0:18:57  lr: 0.004855  loss: 0.0426 (0.0529)  loss_classifier: 0.0138 (0.0188)  loss_box_reg: 0.0291 (0.0326)  loss_objectness: 0.0002 (0.0008)  loss_rpn_box_reg: 0.0004 (0.0008)  time: 0.4636  data: 0.0151  max mem: 1822\n",
      "Epoch: [0]  [ 980/3343]  eta: 0:18:52  lr: 0.004905  loss: 0.0427 (0.0529)  loss_classifier: 0.0128 (0.0187)  loss_box_reg: 0.0257 (0.0326)  loss_objectness: 0.0001 (0.0008)  loss_rpn_box_reg: 0.0004 (0.0008)  time: 0.4544  data: 0.0115  max mem: 1822\n"
     ]
    },
    {
     "name": "stdout",
     "output_type": "stream",
     "text": [
      "Epoch: [0]  [ 990/3343]  eta: 0:18:47  lr: 0.004955  loss: 0.0448 (0.0529)  loss_classifier: 0.0128 (0.0188)  loss_box_reg: 0.0309 (0.0326)  loss_objectness: 0.0001 (0.0008)  loss_rpn_box_reg: 0.0005 (0.0008)  time: 0.4684  data: 0.0116  max mem: 1822\n",
      "Epoch: [0]  [1000/3343]  eta: 0:18:41  lr: 0.005000  loss: 0.0492 (0.0529)  loss_classifier: 0.0120 (0.0187)  loss_box_reg: 0.0319 (0.0327)  loss_objectness: 0.0001 (0.0008)  loss_rpn_box_reg: 0.0005 (0.0008)  time: 0.4604  data: 0.0126  max mem: 1822\n",
      "Epoch: [0]  [1010/3343]  eta: 0:18:37  lr: 0.005000  loss: 0.0493 (0.0529)  loss_classifier: 0.0137 (0.0187)  loss_box_reg: 0.0345 (0.0327)  loss_objectness: 0.0001 (0.0008)  loss_rpn_box_reg: 0.0004 (0.0008)  time: 0.4613  data: 0.0150  max mem: 1822\n",
      "Epoch: [0]  [1020/3343]  eta: 0:18:31  lr: 0.005000  loss: 0.0499 (0.0530)  loss_classifier: 0.0140 (0.0187)  loss_box_reg: 0.0367 (0.0328)  loss_objectness: 0.0001 (0.0008)  loss_rpn_box_reg: 0.0003 (0.0008)  time: 0.4624  data: 0.0133  max mem: 1822\n",
      "Epoch: [0]  [1030/3343]  eta: 0:18:26  lr: 0.005000  loss: 0.0560 (0.0530)  loss_classifier: 0.0140 (0.0186)  loss_box_reg: 0.0399 (0.0329)  loss_objectness: 0.0002 (0.0008)  loss_rpn_box_reg: 0.0004 (0.0008)  time: 0.4627  data: 0.0142  max mem: 1822\n",
      "Epoch: [0]  [1040/3343]  eta: 0:18:21  lr: 0.005000  loss: 0.0588 (0.0531)  loss_classifier: 0.0140 (0.0186)  loss_box_reg: 0.0395 (0.0330)  loss_objectness: 0.0001 (0.0008)  loss_rpn_box_reg: 0.0007 (0.0008)  time: 0.4681  data: 0.0186  max mem: 1822\n",
      "Epoch: [0]  [1050/3343]  eta: 0:18:16  lr: 0.005000  loss: 0.0498 (0.0531)  loss_classifier: 0.0133 (0.0186)  loss_box_reg: 0.0373 (0.0330)  loss_objectness: 0.0001 (0.0007)  loss_rpn_box_reg: 0.0007 (0.0008)  time: 0.4614  data: 0.0154  max mem: 1822\n",
      "Epoch: [0]  [1060/3343]  eta: 0:18:11  lr: 0.005000  loss: 0.0597 (0.0532)  loss_classifier: 0.0169 (0.0185)  loss_box_reg: 0.0428 (0.0332)  loss_objectness: 0.0001 (0.0007)  loss_rpn_box_reg: 0.0006 (0.0008)  time: 0.4660  data: 0.0117  max mem: 1822\n",
      "Epoch: [0]  [1070/3343]  eta: 0:18:06  lr: 0.005000  loss: 0.0534 (0.0532)  loss_classifier: 0.0146 (0.0185)  loss_box_reg: 0.0405 (0.0332)  loss_objectness: 0.0001 (0.0007)  loss_rpn_box_reg: 0.0005 (0.0008)  time: 0.4719  data: 0.0125  max mem: 1822\n",
      "Epoch: [0]  [1080/3343]  eta: 0:18:01  lr: 0.005000  loss: 0.0390 (0.0532)  loss_classifier: 0.0103 (0.0185)  loss_box_reg: 0.0264 (0.0332)  loss_objectness: 0.0001 (0.0007)  loss_rpn_box_reg: 0.0005 (0.0008)  time: 0.4631  data: 0.0135  max mem: 1822\n",
      "Epoch: [0]  [1090/3343]  eta: 0:17:57  lr: 0.005000  loss: 0.0417 (0.0533)  loss_classifier: 0.0120 (0.0185)  loss_box_reg: 0.0298 (0.0332)  loss_objectness: 0.0002 (0.0007)  loss_rpn_box_reg: 0.0006 (0.0008)  time: 0.4763  data: 0.0133  max mem: 1822\n",
      "Epoch: [0]  [1100/3343]  eta: 0:17:52  lr: 0.005000  loss: 0.0504 (0.0533)  loss_classifier: 0.0150 (0.0185)  loss_box_reg: 0.0345 (0.0333)  loss_objectness: 0.0001 (0.0007)  loss_rpn_box_reg: 0.0009 (0.0008)  time: 0.4873  data: 0.0148  max mem: 1822\n",
      "Epoch: [0]  [1110/3343]  eta: 0:17:47  lr: 0.005000  loss: 0.0504 (0.0533)  loss_classifier: 0.0118 (0.0185)  loss_box_reg: 0.0345 (0.0333)  loss_objectness: 0.0001 (0.0007)  loss_rpn_box_reg: 0.0008 (0.0008)  time: 0.4757  data: 0.0185  max mem: 1822\n",
      "Epoch: [0]  [1120/3343]  eta: 0:17:42  lr: 0.005000  loss: 0.0498 (0.0533)  loss_classifier: 0.0133 (0.0185)  loss_box_reg: 0.0307 (0.0333)  loss_objectness: 0.0001 (0.0007)  loss_rpn_box_reg: 0.0006 (0.0008)  time: 0.4791  data: 0.0172  max mem: 1822\n",
      "Epoch: [0]  [1130/3343]  eta: 0:17:37  lr: 0.005000  loss: 0.0446 (0.0532)  loss_classifier: 0.0134 (0.0184)  loss_box_reg: 0.0277 (0.0333)  loss_objectness: 0.0001 (0.0007)  loss_rpn_box_reg: 0.0004 (0.0008)  time: 0.4654  data: 0.0115  max mem: 1822\n",
      "Epoch: [0]  [1140/3343]  eta: 0:17:32  lr: 0.005000  loss: 0.0501 (0.0533)  loss_classifier: 0.0160 (0.0184)  loss_box_reg: 0.0311 (0.0334)  loss_objectness: 0.0001 (0.0007)  loss_rpn_box_reg: 0.0008 (0.0008)  time: 0.4637  data: 0.0151  max mem: 1822\n",
      "Epoch: [0]  [1150/3343]  eta: 0:17:27  lr: 0.005000  loss: 0.0600 (0.0535)  loss_classifier: 0.0179 (0.0185)  loss_box_reg: 0.0385 (0.0335)  loss_objectness: 0.0002 (0.0007)  loss_rpn_box_reg: 0.0008 (0.0008)  time: 0.4775  data: 0.0200  max mem: 1822\n",
      "Epoch: [0]  [1160/3343]  eta: 0:17:22  lr: 0.005000  loss: 0.0495 (0.0535)  loss_classifier: 0.0179 (0.0185)  loss_box_reg: 0.0306 (0.0335)  loss_objectness: 0.0002 (0.0007)  loss_rpn_box_reg: 0.0005 (0.0008)  time: 0.4736  data: 0.0154  max mem: 1822\n",
      "Epoch: [0]  [1170/3343]  eta: 0:17:18  lr: 0.005000  loss: 0.0465 (0.0538)  loss_classifier: 0.0178 (0.0187)  loss_box_reg: 0.0290 (0.0336)  loss_objectness: 0.0001 (0.0007)  loss_rpn_box_reg: 0.0006 (0.0008)  time: 0.4762  data: 0.0127  max mem: 1822\n",
      "Epoch: [0]  [1180/3343]  eta: 0:17:12  lr: 0.005000  loss: 0.0502 (0.0539)  loss_classifier: 0.0155 (0.0187)  loss_box_reg: 0.0335 (0.0336)  loss_objectness: 0.0003 (0.0007)  loss_rpn_box_reg: 0.0005 (0.0008)  time: 0.4652  data: 0.0157  max mem: 1822\n",
      "Epoch: [0]  [1190/3343]  eta: 0:17:07  lr: 0.005000  loss: 0.0498 (0.0539)  loss_classifier: 0.0134 (0.0187)  loss_box_reg: 0.0335 (0.0337)  loss_objectness: 0.0003 (0.0007)  loss_rpn_box_reg: 0.0004 (0.0008)  time: 0.4584  data: 0.0161  max mem: 1822\n",
      "Epoch: [0]  [1200/3343]  eta: 0:17:03  lr: 0.005000  loss: 0.0548 (0.0539)  loss_classifier: 0.0127 (0.0187)  loss_box_reg: 0.0376 (0.0337)  loss_objectness: 0.0003 (0.0007)  loss_rpn_box_reg: 0.0005 (0.0008)  time: 0.4736  data: 0.0183  max mem: 1822\n",
      "Epoch: [0]  [1210/3343]  eta: 0:16:58  lr: 0.005000  loss: 0.0486 (0.0538)  loss_classifier: 0.0113 (0.0186)  loss_box_reg: 0.0332 (0.0337)  loss_objectness: 0.0002 (0.0007)  loss_rpn_box_reg: 0.0006 (0.0008)  time: 0.4778  data: 0.0179  max mem: 1822\n",
      "Epoch: [0]  [1220/3343]  eta: 0:16:53  lr: 0.005000  loss: 0.0485 (0.0539)  loss_classifier: 0.0123 (0.0187)  loss_box_reg: 0.0315 (0.0336)  loss_objectness: 0.0001 (0.0007)  loss_rpn_box_reg: 0.0004 (0.0008)  time: 0.4816  data: 0.0133  max mem: 1822\n",
      "Epoch: [0]  [1230/3343]  eta: 0:16:49  lr: 0.005000  loss: 0.0566 (0.0539)  loss_classifier: 0.0142 (0.0187)  loss_box_reg: 0.0323 (0.0337)  loss_objectness: 0.0001 (0.0007)  loss_rpn_box_reg: 0.0004 (0.0008)  time: 0.4841  data: 0.0124  max mem: 1822\n",
      "Epoch: [0]  [1240/3343]  eta: 0:16:44  lr: 0.005000  loss: 0.0588 (0.0541)  loss_classifier: 0.0177 (0.0188)  loss_box_reg: 0.0380 (0.0337)  loss_objectness: 0.0001 (0.0007)  loss_rpn_box_reg: 0.0005 (0.0008)  time: 0.4958  data: 0.0335  max mem: 1822\n",
      "Epoch: [0]  [1250/3343]  eta: 0:16:39  lr: 0.005000  loss: 0.0674 (0.0543)  loss_classifier: 0.0218 (0.0189)  loss_box_reg: 0.0356 (0.0338)  loss_objectness: 0.0005 (0.0007)  loss_rpn_box_reg: 0.0008 (0.0008)  time: 0.4881  data: 0.0350  max mem: 1822\n",
      "Epoch: [0]  [1260/3343]  eta: 0:16:34  lr: 0.005000  loss: 0.0545 (0.0544)  loss_classifier: 0.0184 (0.0189)  loss_box_reg: 0.0348 (0.0339)  loss_objectness: 0.0002 (0.0007)  loss_rpn_box_reg: 0.0006 (0.0008)  time: 0.4691  data: 0.0155  max mem: 1822\n",
      "Epoch: [0]  [1270/3343]  eta: 0:16:29  lr: 0.005000  loss: 0.0545 (0.0544)  loss_classifier: 0.0169 (0.0189)  loss_box_reg: 0.0343 (0.0339)  loss_objectness: 0.0002 (0.0007)  loss_rpn_box_reg: 0.0004 (0.0008)  time: 0.4615  data: 0.0158  max mem: 1822\n",
      "Epoch: [0]  [1280/3343]  eta: 0:16:24  lr: 0.005000  loss: 0.0574 (0.0545)  loss_classifier: 0.0169 (0.0190)  loss_box_reg: 0.0411 (0.0339)  loss_objectness: 0.0002 (0.0007)  loss_rpn_box_reg: 0.0006 (0.0008)  time: 0.4593  data: 0.0162  max mem: 1822\n",
      "Epoch: [0]  [1290/3343]  eta: 0:16:19  lr: 0.005000  loss: 0.0723 (0.0547)  loss_classifier: 0.0213 (0.0190)  loss_box_reg: 0.0445 (0.0341)  loss_objectness: 0.0002 (0.0007)  loss_rpn_box_reg: 0.0008 (0.0008)  time: 0.4699  data: 0.0156  max mem: 1822\n",
      "Epoch: [0]  [1300/3343]  eta: 0:16:15  lr: 0.005000  loss: 0.0568 (0.0547)  loss_classifier: 0.0155 (0.0190)  loss_box_reg: 0.0410 (0.0341)  loss_objectness: 0.0002 (0.0007)  loss_rpn_box_reg: 0.0008 (0.0008)  time: 0.4729  data: 0.0142  max mem: 1822\n",
      "Epoch: [0]  [1310/3343]  eta: 0:16:10  lr: 0.005000  loss: 0.0568 (0.0548)  loss_classifier: 0.0168 (0.0190)  loss_box_reg: 0.0394 (0.0342)  loss_objectness: 0.0002 (0.0007)  loss_rpn_box_reg: 0.0008 (0.0008)  time: 0.4642  data: 0.0138  max mem: 1822\n"
     ]
    },
    {
     "name": "stdout",
     "output_type": "stream",
     "text": [
      "Epoch: [0]  [1320/3343]  eta: 0:16:04  lr: 0.005000  loss: 0.0627 (0.0549)  loss_classifier: 0.0187 (0.0191)  loss_box_reg: 0.0396 (0.0342)  loss_objectness: 0.0002 (0.0008)  loss_rpn_box_reg: 0.0008 (0.0008)  time: 0.4519  data: 0.0135  max mem: 1822\n",
      "Epoch: [0]  [1330/3343]  eta: 0:15:59  lr: 0.005000  loss: 0.0446 (0.0548)  loss_classifier: 0.0142 (0.0191)  loss_box_reg: 0.0263 (0.0341)  loss_objectness: 0.0002 (0.0008)  loss_rpn_box_reg: 0.0006 (0.0008)  time: 0.4450  data: 0.0110  max mem: 1822\n",
      "Epoch: [0]  [1340/3343]  eta: 0:15:54  lr: 0.005000  loss: 0.0446 (0.0548)  loss_classifier: 0.0154 (0.0191)  loss_box_reg: 0.0245 (0.0341)  loss_objectness: 0.0002 (0.0008)  loss_rpn_box_reg: 0.0005 (0.0008)  time: 0.4572  data: 0.0139  max mem: 1822\n",
      "Epoch: [0]  [1350/3343]  eta: 0:15:49  lr: 0.005000  loss: 0.0591 (0.0549)  loss_classifier: 0.0196 (0.0191)  loss_box_reg: 0.0357 (0.0341)  loss_objectness: 0.0002 (0.0008)  loss_rpn_box_reg: 0.0004 (0.0008)  time: 0.4640  data: 0.0156  max mem: 1822\n",
      "Epoch: [0]  [1360/3343]  eta: 0:15:44  lr: 0.005000  loss: 0.0469 (0.0548)  loss_classifier: 0.0116 (0.0191)  loss_box_reg: 0.0305 (0.0341)  loss_objectness: 0.0002 (0.0008)  loss_rpn_box_reg: 0.0004 (0.0008)  time: 0.4607  data: 0.0114  max mem: 1822\n",
      "Epoch: [0]  [1370/3343]  eta: 0:15:40  lr: 0.005000  loss: 0.0460 (0.0548)  loss_classifier: 0.0116 (0.0191)  loss_box_reg: 0.0305 (0.0341)  loss_objectness: 0.0001 (0.0008)  loss_rpn_box_reg: 0.0004 (0.0008)  time: 0.4771  data: 0.0122  max mem: 1822\n",
      "Epoch: [0]  [1380/3343]  eta: 0:15:35  lr: 0.005000  loss: 0.0466 (0.0548)  loss_classifier: 0.0122 (0.0190)  loss_box_reg: 0.0352 (0.0342)  loss_objectness: 0.0002 (0.0008)  loss_rpn_box_reg: 0.0004 (0.0008)  time: 0.4886  data: 0.0149  max mem: 1822\n",
      "Epoch: [0]  [1390/3343]  eta: 0:15:30  lr: 0.005000  loss: 0.0564 (0.0549)  loss_classifier: 0.0142 (0.0191)  loss_box_reg: 0.0334 (0.0342)  loss_objectness: 0.0002 (0.0007)  loss_rpn_box_reg: 0.0005 (0.0008)  time: 0.4775  data: 0.0135  max mem: 1822\n",
      "Epoch: [0]  [1400/3343]  eta: 0:15:25  lr: 0.005000  loss: 0.0629 (0.0549)  loss_classifier: 0.0190 (0.0191)  loss_box_reg: 0.0327 (0.0342)  loss_objectness: 0.0001 (0.0008)  loss_rpn_box_reg: 0.0005 (0.0008)  time: 0.4525  data: 0.0098  max mem: 1822\n",
      "Epoch: [0]  [1410/3343]  eta: 0:15:20  lr: 0.005000  loss: 0.0623 (0.0549)  loss_classifier: 0.0167 (0.0191)  loss_box_reg: 0.0327 (0.0342)  loss_objectness: 0.0001 (0.0008)  loss_rpn_box_reg: 0.0004 (0.0008)  time: 0.4491  data: 0.0102  max mem: 1822\n",
      "Epoch: [0]  [1420/3343]  eta: 0:15:15  lr: 0.005000  loss: 0.0458 (0.0550)  loss_classifier: 0.0166 (0.0192)  loss_box_reg: 0.0311 (0.0342)  loss_objectness: 0.0002 (0.0008)  loss_rpn_box_reg: 0.0005 (0.0008)  time: 0.4625  data: 0.0153  max mem: 1822\n",
      "Epoch: [0]  [1430/3343]  eta: 0:15:10  lr: 0.005000  loss: 0.0528 (0.0550)  loss_classifier: 0.0166 (0.0192)  loss_box_reg: 0.0348 (0.0343)  loss_objectness: 0.0002 (0.0007)  loss_rpn_box_reg: 0.0006 (0.0008)  time: 0.4683  data: 0.0151  max mem: 1822\n",
      "Epoch: [0]  [1440/3343]  eta: 0:15:05  lr: 0.005000  loss: 0.0703 (0.0551)  loss_classifier: 0.0170 (0.0192)  loss_box_reg: 0.0502 (0.0343)  loss_objectness: 0.0002 (0.0007)  loss_rpn_box_reg: 0.0007 (0.0008)  time: 0.4700  data: 0.0129  max mem: 1822\n",
      "Epoch: [0]  [1450/3343]  eta: 0:15:00  lr: 0.005000  loss: 0.0465 (0.0550)  loss_classifier: 0.0149 (0.0191)  loss_box_reg: 0.0339 (0.0343)  loss_objectness: 0.0002 (0.0007)  loss_rpn_box_reg: 0.0005 (0.0008)  time: 0.4615  data: 0.0125  max mem: 1822\n",
      "Epoch: [0]  [1460/3343]  eta: 0:14:55  lr: 0.005000  loss: 0.0413 (0.0550)  loss_classifier: 0.0140 (0.0191)  loss_box_reg: 0.0272 (0.0343)  loss_objectness: 0.0002 (0.0007)  loss_rpn_box_reg: 0.0004 (0.0008)  time: 0.4689  data: 0.0148  max mem: 1822\n",
      "Epoch: [0]  [1470/3343]  eta: 0:14:51  lr: 0.005000  loss: 0.0477 (0.0550)  loss_classifier: 0.0142 (0.0191)  loss_box_reg: 0.0313 (0.0343)  loss_objectness: 0.0001 (0.0007)  loss_rpn_box_reg: 0.0003 (0.0008)  time: 0.4726  data: 0.0172  max mem: 1822\n",
      "Epoch: [0]  [1480/3343]  eta: 0:14:45  lr: 0.005000  loss: 0.0477 (0.0550)  loss_classifier: 0.0131 (0.0191)  loss_box_reg: 0.0313 (0.0343)  loss_objectness: 0.0001 (0.0007)  loss_rpn_box_reg: 0.0004 (0.0008)  time: 0.4529  data: 0.0136  max mem: 1822\n",
      "Epoch: [0]  [1490/3343]  eta: 0:14:41  lr: 0.005000  loss: 0.0484 (0.0550)  loss_classifier: 0.0135 (0.0191)  loss_box_reg: 0.0340 (0.0343)  loss_objectness: 0.0001 (0.0007)  loss_rpn_box_reg: 0.0003 (0.0008)  time: 0.4577  data: 0.0117  max mem: 1822\n",
      "Epoch: [0]  [1500/3343]  eta: 0:14:36  lr: 0.005000  loss: 0.0460 (0.0549)  loss_classifier: 0.0134 (0.0191)  loss_box_reg: 0.0319 (0.0343)  loss_objectness: 0.0001 (0.0007)  loss_rpn_box_reg: 0.0005 (0.0008)  time: 0.4620  data: 0.0145  max mem: 1822\n",
      "Epoch: [0]  [1510/3343]  eta: 0:14:30  lr: 0.005000  loss: 0.0528 (0.0550)  loss_classifier: 0.0148 (0.0191)  loss_box_reg: 0.0338 (0.0343)  loss_objectness: 0.0001 (0.0007)  loss_rpn_box_reg: 0.0005 (0.0008)  time: 0.4449  data: 0.0156  max mem: 1822\n",
      "Epoch: [0]  [1520/3343]  eta: 0:14:26  lr: 0.005000  loss: 0.0542 (0.0550)  loss_classifier: 0.0151 (0.0191)  loss_box_reg: 0.0351 (0.0343)  loss_objectness: 0.0002 (0.0007)  loss_rpn_box_reg: 0.0004 (0.0008)  time: 0.4580  data: 0.0163  max mem: 1822\n",
      "Epoch: [0]  [1530/3343]  eta: 0:14:21  lr: 0.005000  loss: 0.0528 (0.0550)  loss_classifier: 0.0135 (0.0191)  loss_box_reg: 0.0337 (0.0343)  loss_objectness: 0.0001 (0.0007)  loss_rpn_box_reg: 0.0004 (0.0008)  time: 0.4671  data: 0.0144  max mem: 1822\n",
      "Epoch: [0]  [1540/3343]  eta: 0:14:16  lr: 0.005000  loss: 0.0566 (0.0551)  loss_classifier: 0.0167 (0.0191)  loss_box_reg: 0.0336 (0.0344)  loss_objectness: 0.0001 (0.0007)  loss_rpn_box_reg: 0.0004 (0.0008)  time: 0.4603  data: 0.0123  max mem: 1822\n",
      "Epoch: [0]  [1550/3343]  eta: 0:14:11  lr: 0.005000  loss: 0.0495 (0.0550)  loss_classifier: 0.0168 (0.0191)  loss_box_reg: 0.0301 (0.0344)  loss_objectness: 0.0001 (0.0007)  loss_rpn_box_reg: 0.0004 (0.0008)  time: 0.4592  data: 0.0140  max mem: 1822\n",
      "Epoch: [0]  [1560/3343]  eta: 0:14:06  lr: 0.005000  loss: 0.0495 (0.0551)  loss_classifier: 0.0166 (0.0191)  loss_box_reg: 0.0377 (0.0344)  loss_objectness: 0.0001 (0.0007)  loss_rpn_box_reg: 0.0004 (0.0008)  time: 0.4670  data: 0.0185  max mem: 1822\n",
      "Epoch: [0]  [1570/3343]  eta: 0:14:01  lr: 0.005000  loss: 0.0644 (0.0553)  loss_classifier: 0.0171 (0.0192)  loss_box_reg: 0.0449 (0.0345)  loss_objectness: 0.0001 (0.0007)  loss_rpn_box_reg: 0.0005 (0.0008)  time: 0.4687  data: 0.0201  max mem: 1822\n",
      "Epoch: [0]  [1580/3343]  eta: 0:13:56  lr: 0.005000  loss: 0.0516 (0.0553)  loss_classifier: 0.0149 (0.0192)  loss_box_reg: 0.0346 (0.0345)  loss_objectness: 0.0001 (0.0007)  loss_rpn_box_reg: 0.0005 (0.0008)  time: 0.4501  data: 0.0160  max mem: 1822\n",
      "Epoch: [0]  [1590/3343]  eta: 0:13:51  lr: 0.005000  loss: 0.0533 (0.0555)  loss_classifier: 0.0146 (0.0193)  loss_box_reg: 0.0346 (0.0346)  loss_objectness: 0.0001 (0.0007)  loss_rpn_box_reg: 0.0004 (0.0008)  time: 0.4489  data: 0.0157  max mem: 1822\n",
      "Epoch: [0]  [1600/3343]  eta: 0:13:46  lr: 0.005000  loss: 0.0639 (0.0556)  loss_classifier: 0.0217 (0.0193)  loss_box_reg: 0.0357 (0.0347)  loss_objectness: 0.0001 (0.0007)  loss_rpn_box_reg: 0.0008 (0.0008)  time: 0.4678  data: 0.0156  max mem: 1822\n",
      "Epoch: [0]  [1610/3343]  eta: 0:13:42  lr: 0.005000  loss: 0.0603 (0.0556)  loss_classifier: 0.0171 (0.0193)  loss_box_reg: 0.0381 (0.0347)  loss_objectness: 0.0001 (0.0007)  loss_rpn_box_reg: 0.0004 (0.0008)  time: 0.4776  data: 0.0150  max mem: 1822\n",
      "Epoch: [0]  [1620/3343]  eta: 0:13:37  lr: 0.005000  loss: 0.0513 (0.0556)  loss_classifier: 0.0154 (0.0193)  loss_box_reg: 0.0321 (0.0347)  loss_objectness: 0.0001 (0.0007)  loss_rpn_box_reg: 0.0004 (0.0008)  time: 0.4664  data: 0.0144  max mem: 1822\n",
      "Epoch: [0]  [1630/3343]  eta: 0:13:32  lr: 0.005000  loss: 0.0513 (0.0556)  loss_classifier: 0.0140 (0.0193)  loss_box_reg: 0.0324 (0.0348)  loss_objectness: 0.0001 (0.0007)  loss_rpn_box_reg: 0.0005 (0.0009)  time: 0.4538  data: 0.0112  max mem: 1822\n",
      "Epoch: [0]  [1640/3343]  eta: 0:13:27  lr: 0.005000  loss: 0.0524 (0.0557)  loss_classifier: 0.0149 (0.0193)  loss_box_reg: 0.0326 (0.0348)  loss_objectness: 0.0003 (0.0007)  loss_rpn_box_reg: 0.0007 (0.0009)  time: 0.4415  data: 0.0104  max mem: 1822\n"
     ]
    },
    {
     "name": "stdout",
     "output_type": "stream",
     "text": [
      "Epoch: [0]  [1650/3343]  eta: 0:13:22  lr: 0.005000  loss: 0.0537 (0.0558)  loss_classifier: 0.0153 (0.0193)  loss_box_reg: 0.0423 (0.0349)  loss_objectness: 0.0003 (0.0007)  loss_rpn_box_reg: 0.0004 (0.0009)  time: 0.4508  data: 0.0156  max mem: 1822\n",
      "Epoch: [0]  [1660/3343]  eta: 0:13:17  lr: 0.005000  loss: 0.0615 (0.0558)  loss_classifier: 0.0157 (0.0193)  loss_box_reg: 0.0448 (0.0349)  loss_objectness: 0.0002 (0.0007)  loss_rpn_box_reg: 0.0005 (0.0009)  time: 0.4623  data: 0.0149  max mem: 1822\n",
      "Epoch: [0]  [1670/3343]  eta: 0:13:12  lr: 0.005000  loss: 0.0535 (0.0558)  loss_classifier: 0.0150 (0.0192)  loss_box_reg: 0.0388 (0.0349)  loss_objectness: 0.0002 (0.0007)  loss_rpn_box_reg: 0.0006 (0.0009)  time: 0.4584  data: 0.0138  max mem: 1822\n",
      "Epoch: [0]  [1680/3343]  eta: 0:13:07  lr: 0.005000  loss: 0.0505 (0.0557)  loss_classifier: 0.0141 (0.0192)  loss_box_reg: 0.0359 (0.0349)  loss_objectness: 0.0001 (0.0007)  loss_rpn_box_reg: 0.0004 (0.0009)  time: 0.4730  data: 0.0153  max mem: 1822\n",
      "Epoch: [0]  [1690/3343]  eta: 0:13:03  lr: 0.005000  loss: 0.0508 (0.0558)  loss_classifier: 0.0149 (0.0192)  loss_box_reg: 0.0367 (0.0350)  loss_objectness: 0.0002 (0.0007)  loss_rpn_box_reg: 0.0005 (0.0009)  time: 0.4762  data: 0.0120  max mem: 1822\n",
      "Epoch: [0]  [1700/3343]  eta: 0:12:58  lr: 0.005000  loss: 0.0630 (0.0559)  loss_classifier: 0.0149 (0.0193)  loss_box_reg: 0.0421 (0.0351)  loss_objectness: 0.0003 (0.0007)  loss_rpn_box_reg: 0.0008 (0.0009)  time: 0.4709  data: 0.0143  max mem: 1822\n",
      "Epoch: [0]  [1710/3343]  eta: 0:12:53  lr: 0.005000  loss: 0.0581 (0.0559)  loss_classifier: 0.0156 (0.0193)  loss_box_reg: 0.0421 (0.0351)  loss_objectness: 0.0001 (0.0007)  loss_rpn_box_reg: 0.0007 (0.0009)  time: 0.4739  data: 0.0155  max mem: 1822\n",
      "Epoch: [0]  [1720/3343]  eta: 0:12:48  lr: 0.005000  loss: 0.0459 (0.0559)  loss_classifier: 0.0153 (0.0193)  loss_box_reg: 0.0300 (0.0351)  loss_objectness: 0.0001 (0.0007)  loss_rpn_box_reg: 0.0006 (0.0009)  time: 0.4788  data: 0.0132  max mem: 1822\n",
      "Epoch: [0]  [1730/3343]  eta: 0:12:44  lr: 0.005000  loss: 0.0578 (0.0560)  loss_classifier: 0.0149 (0.0193)  loss_box_reg: 0.0370 (0.0351)  loss_objectness: 0.0001 (0.0007)  loss_rpn_box_reg: 0.0004 (0.0009)  time: 0.4776  data: 0.0133  max mem: 1822\n",
      "Epoch: [0]  [1740/3343]  eta: 0:12:39  lr: 0.005000  loss: 0.0610 (0.0561)  loss_classifier: 0.0188 (0.0193)  loss_box_reg: 0.0413 (0.0352)  loss_objectness: 0.0001 (0.0007)  loss_rpn_box_reg: 0.0005 (0.0009)  time: 0.4693  data: 0.0145  max mem: 1822\n",
      "Epoch: [0]  [1750/3343]  eta: 0:12:34  lr: 0.005000  loss: 0.0687 (0.0562)  loss_classifier: 0.0201 (0.0194)  loss_box_reg: 0.0440 (0.0352)  loss_objectness: 0.0002 (0.0007)  loss_rpn_box_reg: 0.0005 (0.0009)  time: 0.4639  data: 0.0145  max mem: 1822\n",
      "Epoch: [0]  [1760/3343]  eta: 0:12:29  lr: 0.005000  loss: 0.0421 (0.0561)  loss_classifier: 0.0161 (0.0193)  loss_box_reg: 0.0315 (0.0352)  loss_objectness: 0.0001 (0.0007)  loss_rpn_box_reg: 0.0005 (0.0009)  time: 0.4718  data: 0.0164  max mem: 1822\n",
      "Epoch: [0]  [1770/3343]  eta: 0:12:25  lr: 0.005000  loss: 0.0529 (0.0562)  loss_classifier: 0.0126 (0.0194)  loss_box_reg: 0.0371 (0.0353)  loss_objectness: 0.0001 (0.0007)  loss_rpn_box_reg: 0.0004 (0.0009)  time: 0.4764  data: 0.0152  max mem: 1822\n",
      "Epoch: [0]  [1780/3343]  eta: 0:12:20  lr: 0.005000  loss: 0.0529 (0.0562)  loss_classifier: 0.0127 (0.0193)  loss_box_reg: 0.0394 (0.0353)  loss_objectness: 0.0001 (0.0007)  loss_rpn_box_reg: 0.0003 (0.0009)  time: 0.4702  data: 0.0115  max mem: 1822\n",
      "Epoch: [0]  [1790/3343]  eta: 0:12:15  lr: 0.005000  loss: 0.0473 (0.0563)  loss_classifier: 0.0117 (0.0193)  loss_box_reg: 0.0321 (0.0354)  loss_objectness: 0.0001 (0.0007)  loss_rpn_box_reg: 0.0004 (0.0009)  time: 0.4568  data: 0.0100  max mem: 1822\n",
      "Epoch: [0]  [1800/3343]  eta: 0:12:10  lr: 0.005000  loss: 0.0438 (0.0562)  loss_classifier: 0.0117 (0.0193)  loss_box_reg: 0.0321 (0.0354)  loss_objectness: 0.0002 (0.0007)  loss_rpn_box_reg: 0.0007 (0.0009)  time: 0.4444  data: 0.0117  max mem: 1822\n",
      "Epoch: [0]  [1810/3343]  eta: 0:12:05  lr: 0.005000  loss: 0.0407 (0.0562)  loss_classifier: 0.0117 (0.0193)  loss_box_reg: 0.0277 (0.0354)  loss_objectness: 0.0002 (0.0007)  loss_rpn_box_reg: 0.0005 (0.0009)  time: 0.4477  data: 0.0137  max mem: 1822\n",
      "Epoch: [0]  [1820/3343]  eta: 0:12:00  lr: 0.005000  loss: 0.0453 (0.0562)  loss_classifier: 0.0128 (0.0193)  loss_box_reg: 0.0296 (0.0354)  loss_objectness: 0.0002 (0.0007)  loss_rpn_box_reg: 0.0005 (0.0009)  time: 0.4458  data: 0.0117  max mem: 1822\n",
      "Epoch: [0]  [1830/3343]  eta: 0:11:55  lr: 0.005000  loss: 0.0472 (0.0562)  loss_classifier: 0.0177 (0.0193)  loss_box_reg: 0.0288 (0.0354)  loss_objectness: 0.0001 (0.0007)  loss_rpn_box_reg: 0.0004 (0.0009)  time: 0.4439  data: 0.0110  max mem: 1822\n",
      "Epoch: [0]  [1840/3343]  eta: 0:11:50  lr: 0.005000  loss: 0.0472 (0.0562)  loss_classifier: 0.0146 (0.0193)  loss_box_reg: 0.0288 (0.0354)  loss_objectness: 0.0001 (0.0007)  loss_rpn_box_reg: 0.0004 (0.0009)  time: 0.4520  data: 0.0146  max mem: 1822\n",
      "Epoch: [0]  [1850/3343]  eta: 0:11:45  lr: 0.005000  loss: 0.0472 (0.0562)  loss_classifier: 0.0140 (0.0193)  loss_box_reg: 0.0302 (0.0353)  loss_objectness: 0.0001 (0.0007)  loss_rpn_box_reg: 0.0004 (0.0009)  time: 0.4600  data: 0.0133  max mem: 1822\n",
      "Epoch: [0]  [1860/3343]  eta: 0:11:41  lr: 0.005000  loss: 0.0334 (0.0561)  loss_classifier: 0.0102 (0.0193)  loss_box_reg: 0.0231 (0.0353)  loss_objectness: 0.0001 (0.0007)  loss_rpn_box_reg: 0.0003 (0.0009)  time: 0.4669  data: 0.0120  max mem: 1822\n",
      "Epoch: [0]  [1870/3343]  eta: 0:11:36  lr: 0.005000  loss: 0.0463 (0.0561)  loss_classifier: 0.0128 (0.0193)  loss_box_reg: 0.0243 (0.0353)  loss_objectness: 0.0001 (0.0007)  loss_rpn_box_reg: 0.0003 (0.0009)  time: 0.4770  data: 0.0241  max mem: 1822\n",
      "Epoch: [0]  [1880/3343]  eta: 0:11:31  lr: 0.005000  loss: 0.0495 (0.0561)  loss_classifier: 0.0171 (0.0193)  loss_box_reg: 0.0346 (0.0353)  loss_objectness: 0.0001 (0.0007)  loss_rpn_box_reg: 0.0005 (0.0009)  time: 0.4727  data: 0.0243  max mem: 1822\n",
      "Epoch: [0]  [1890/3343]  eta: 0:11:26  lr: 0.005000  loss: 0.0495 (0.0562)  loss_classifier: 0.0151 (0.0193)  loss_box_reg: 0.0315 (0.0353)  loss_objectness: 0.0001 (0.0007)  loss_rpn_box_reg: 0.0004 (0.0009)  time: 0.4672  data: 0.0167  max mem: 1822\n",
      "Epoch: [0]  [1900/3343]  eta: 0:11:21  lr: 0.005000  loss: 0.0537 (0.0562)  loss_classifier: 0.0149 (0.0193)  loss_box_reg: 0.0315 (0.0353)  loss_objectness: 0.0001 (0.0007)  loss_rpn_box_reg: 0.0004 (0.0009)  time: 0.4536  data: 0.0130  max mem: 1822\n",
      "Epoch: [0]  [1910/3343]  eta: 0:11:17  lr: 0.005000  loss: 0.0435 (0.0561)  loss_classifier: 0.0149 (0.0193)  loss_box_reg: 0.0270 (0.0352)  loss_objectness: 0.0001 (0.0007)  loss_rpn_box_reg: 0.0003 (0.0009)  time: 0.4565  data: 0.0141  max mem: 1822\n",
      "Epoch: [0]  [1920/3343]  eta: 0:11:12  lr: 0.005000  loss: 0.0461 (0.0562)  loss_classifier: 0.0153 (0.0193)  loss_box_reg: 0.0306 (0.0353)  loss_objectness: 0.0002 (0.0007)  loss_rpn_box_reg: 0.0004 (0.0009)  time: 0.4802  data: 0.0156  max mem: 1822\n",
      "Epoch: [0]  [1930/3343]  eta: 0:11:07  lr: 0.005000  loss: 0.0553 (0.0561)  loss_classifier: 0.0156 (0.0193)  loss_box_reg: 0.0358 (0.0353)  loss_objectness: 0.0002 (0.0007)  loss_rpn_box_reg: 0.0005 (0.0009)  time: 0.4609  data: 0.0139  max mem: 1822\n",
      "Epoch: [0]  [1940/3343]  eta: 0:11:02  lr: 0.005000  loss: 0.0423 (0.0561)  loss_classifier: 0.0107 (0.0193)  loss_box_reg: 0.0267 (0.0353)  loss_objectness: 0.0002 (0.0007)  loss_rpn_box_reg: 0.0005 (0.0009)  time: 0.4549  data: 0.0175  max mem: 1822\n",
      "Epoch: [0]  [1950/3343]  eta: 0:10:58  lr: 0.005000  loss: 0.0423 (0.0562)  loss_classifier: 0.0125 (0.0193)  loss_box_reg: 0.0254 (0.0353)  loss_objectness: 0.0002 (0.0007)  loss_rpn_box_reg: 0.0005 (0.0009)  time: 0.4740  data: 0.0194  max mem: 1822\n",
      "Epoch: [0]  [1960/3343]  eta: 0:10:53  lr: 0.005000  loss: 0.0455 (0.0561)  loss_classifier: 0.0173 (0.0193)  loss_box_reg: 0.0265 (0.0353)  loss_objectness: 0.0001 (0.0007)  loss_rpn_box_reg: 0.0006 (0.0009)  time: 0.4672  data: 0.0172  max mem: 1822\n",
      "Epoch: [0]  [1970/3343]  eta: 0:10:48  lr: 0.005000  loss: 0.0478 (0.0561)  loss_classifier: 0.0145 (0.0193)  loss_box_reg: 0.0332 (0.0353)  loss_objectness: 0.0001 (0.0007)  loss_rpn_box_reg: 0.0004 (0.0009)  time: 0.4597  data: 0.0152  max mem: 1822\n"
     ]
    },
    {
     "name": "stdout",
     "output_type": "stream",
     "text": [
      "Epoch: [0]  [1980/3343]  eta: 0:10:43  lr: 0.005000  loss: 0.0458 (0.0561)  loss_classifier: 0.0134 (0.0193)  loss_box_reg: 0.0320 (0.0352)  loss_objectness: 0.0001 (0.0007)  loss_rpn_box_reg: 0.0005 (0.0009)  time: 0.4722  data: 0.0156  max mem: 1822\n",
      "Epoch: [0]  [1990/3343]  eta: 0:10:39  lr: 0.005000  loss: 0.0471 (0.0561)  loss_classifier: 0.0143 (0.0193)  loss_box_reg: 0.0320 (0.0353)  loss_objectness: 0.0001 (0.0007)  loss_rpn_box_reg: 0.0007 (0.0009)  time: 0.4788  data: 0.0194  max mem: 1822\n",
      "Epoch: [0]  [2000/3343]  eta: 0:10:34  lr: 0.005000  loss: 0.0553 (0.0564)  loss_classifier: 0.0154 (0.0194)  loss_box_reg: 0.0375 (0.0353)  loss_objectness: 0.0003 (0.0007)  loss_rpn_box_reg: 0.0005 (0.0009)  time: 0.4725  data: 0.0181  max mem: 1822\n",
      "Epoch: [0]  [2010/3343]  eta: 0:10:29  lr: 0.005000  loss: 0.0464 (0.0563)  loss_classifier: 0.0167 (0.0194)  loss_box_reg: 0.0298 (0.0353)  loss_objectness: 0.0009 (0.0007)  loss_rpn_box_reg: 0.0004 (0.0009)  time: 0.4590  data: 0.0137  max mem: 1822\n",
      "Epoch: [0]  [2020/3343]  eta: 0:10:24  lr: 0.005000  loss: 0.0455 (0.0563)  loss_classifier: 0.0164 (0.0195)  loss_box_reg: 0.0280 (0.0353)  loss_objectness: 0.0006 (0.0007)  loss_rpn_box_reg: 0.0006 (0.0009)  time: 0.4437  data: 0.0126  max mem: 1822\n",
      "Epoch: [0]  [2030/3343]  eta: 0:10:19  lr: 0.005000  loss: 0.0517 (0.0564)  loss_classifier: 0.0167 (0.0195)  loss_box_reg: 0.0272 (0.0353)  loss_objectness: 0.0003 (0.0007)  loss_rpn_box_reg: 0.0008 (0.0009)  time: 0.4468  data: 0.0132  max mem: 1822\n",
      "Epoch: [0]  [2040/3343]  eta: 0:10:15  lr: 0.005000  loss: 0.0487 (0.0564)  loss_classifier: 0.0162 (0.0195)  loss_box_reg: 0.0299 (0.0353)  loss_objectness: 0.0002 (0.0007)  loss_rpn_box_reg: 0.0003 (0.0009)  time: 0.4679  data: 0.0173  max mem: 1822\n",
      "Epoch: [0]  [2050/3343]  eta: 0:10:10  lr: 0.005000  loss: 0.0487 (0.0564)  loss_classifier: 0.0140 (0.0195)  loss_box_reg: 0.0331 (0.0353)  loss_objectness: 0.0002 (0.0007)  loss_rpn_box_reg: 0.0003 (0.0009)  time: 0.4712  data: 0.0149  max mem: 1822\n",
      "Epoch: [0]  [2060/3343]  eta: 0:10:05  lr: 0.005000  loss: 0.0498 (0.0564)  loss_classifier: 0.0161 (0.0195)  loss_box_reg: 0.0377 (0.0353)  loss_objectness: 0.0002 (0.0007)  loss_rpn_box_reg: 0.0004 (0.0009)  time: 0.4530  data: 0.0116  max mem: 1822\n",
      "Epoch: [0]  [2070/3343]  eta: 0:10:00  lr: 0.005000  loss: 0.0514 (0.0566)  loss_classifier: 0.0161 (0.0196)  loss_box_reg: 0.0343 (0.0354)  loss_objectness: 0.0003 (0.0007)  loss_rpn_box_reg: 0.0004 (0.0009)  time: 0.4620  data: 0.0139  max mem: 1822\n",
      "Epoch: [0]  [2080/3343]  eta: 0:09:56  lr: 0.005000  loss: 0.0500 (0.0566)  loss_classifier: 0.0153 (0.0196)  loss_box_reg: 0.0354 (0.0354)  loss_objectness: 0.0003 (0.0007)  loss_rpn_box_reg: 0.0003 (0.0009)  time: 0.4808  data: 0.0158  max mem: 1822\n",
      "Epoch: [0]  [2090/3343]  eta: 0:09:51  lr: 0.005000  loss: 0.0540 (0.0567)  loss_classifier: 0.0170 (0.0197)  loss_box_reg: 0.0354 (0.0354)  loss_objectness: 0.0002 (0.0007)  loss_rpn_box_reg: 0.0003 (0.0009)  time: 0.4834  data: 0.0177  max mem: 1822\n",
      "Epoch: [0]  [2100/3343]  eta: 0:09:46  lr: 0.005000  loss: 0.0590 (0.0567)  loss_classifier: 0.0163 (0.0197)  loss_box_reg: 0.0365 (0.0354)  loss_objectness: 0.0002 (0.0007)  loss_rpn_box_reg: 0.0006 (0.0009)  time: 0.4722  data: 0.0197  max mem: 1822\n",
      "Epoch: [0]  [2110/3343]  eta: 0:09:41  lr: 0.005000  loss: 0.0624 (0.0567)  loss_classifier: 0.0163 (0.0197)  loss_box_reg: 0.0466 (0.0355)  loss_objectness: 0.0003 (0.0007)  loss_rpn_box_reg: 0.0006 (0.0009)  time: 0.4668  data: 0.0177  max mem: 1822\n",
      "Epoch: [0]  [2120/3343]  eta: 0:09:37  lr: 0.005000  loss: 0.0604 (0.0568)  loss_classifier: 0.0163 (0.0197)  loss_box_reg: 0.0405 (0.0355)  loss_objectness: 0.0002 (0.0007)  loss_rpn_box_reg: 0.0005 (0.0009)  time: 0.4771  data: 0.0139  max mem: 1822\n",
      "Epoch: [0]  [2130/3343]  eta: 0:09:32  lr: 0.005000  loss: 0.0570 (0.0568)  loss_classifier: 0.0131 (0.0197)  loss_box_reg: 0.0347 (0.0355)  loss_objectness: 0.0001 (0.0007)  loss_rpn_box_reg: 0.0005 (0.0009)  time: 0.4751  data: 0.0120  max mem: 1822\n",
      "Epoch: [0]  [2140/3343]  eta: 0:09:27  lr: 0.005000  loss: 0.0564 (0.0568)  loss_classifier: 0.0138 (0.0197)  loss_box_reg: 0.0347 (0.0355)  loss_objectness: 0.0002 (0.0007)  loss_rpn_box_reg: 0.0004 (0.0009)  time: 0.4645  data: 0.0129  max mem: 1822\n",
      "Epoch: [0]  [2150/3343]  eta: 0:09:22  lr: 0.005000  loss: 0.0625 (0.0569)  loss_classifier: 0.0187 (0.0197)  loss_box_reg: 0.0415 (0.0356)  loss_objectness: 0.0002 (0.0007)  loss_rpn_box_reg: 0.0004 (0.0009)  time: 0.4583  data: 0.0134  max mem: 1822\n",
      "Epoch: [0]  [2160/3343]  eta: 0:09:18  lr: 0.005000  loss: 0.0625 (0.0570)  loss_classifier: 0.0186 (0.0198)  loss_box_reg: 0.0465 (0.0356)  loss_objectness: 0.0002 (0.0007)  loss_rpn_box_reg: 0.0006 (0.0009)  time: 0.4558  data: 0.0145  max mem: 1822\n",
      "Epoch: [0]  [2170/3343]  eta: 0:09:13  lr: 0.005000  loss: 0.0639 (0.0570)  loss_classifier: 0.0155 (0.0198)  loss_box_reg: 0.0460 (0.0357)  loss_objectness: 0.0002 (0.0007)  loss_rpn_box_reg: 0.0008 (0.0009)  time: 0.4521  data: 0.0184  max mem: 1822\n",
      "Epoch: [0]  [2180/3343]  eta: 0:09:08  lr: 0.005000  loss: 0.0555 (0.0571)  loss_classifier: 0.0166 (0.0198)  loss_box_reg: 0.0366 (0.0357)  loss_objectness: 0.0001 (0.0007)  loss_rpn_box_reg: 0.0008 (0.0009)  time: 0.4578  data: 0.0153  max mem: 1822\n",
      "Epoch: [0]  [2190/3343]  eta: 0:09:03  lr: 0.005000  loss: 0.0472 (0.0571)  loss_classifier: 0.0155 (0.0198)  loss_box_reg: 0.0350 (0.0357)  loss_objectness: 0.0001 (0.0007)  loss_rpn_box_reg: 0.0005 (0.0009)  time: 0.4628  data: 0.0124  max mem: 1822\n",
      "Epoch: [0]  [2200/3343]  eta: 0:08:59  lr: 0.005000  loss: 0.0446 (0.0571)  loss_classifier: 0.0131 (0.0198)  loss_box_reg: 0.0325 (0.0357)  loss_objectness: 0.0002 (0.0007)  loss_rpn_box_reg: 0.0005 (0.0009)  time: 0.4656  data: 0.0135  max mem: 1822\n",
      "Epoch: [0]  [2210/3343]  eta: 0:08:54  lr: 0.005000  loss: 0.0437 (0.0571)  loss_classifier: 0.0126 (0.0199)  loss_box_reg: 0.0278 (0.0357)  loss_objectness: 0.0001 (0.0007)  loss_rpn_box_reg: 0.0004 (0.0009)  time: 0.4699  data: 0.0131  max mem: 1822\n",
      "Epoch: [0]  [2220/3343]  eta: 0:08:49  lr: 0.005000  loss: 0.0552 (0.0572)  loss_classifier: 0.0174 (0.0199)  loss_box_reg: 0.0349 (0.0357)  loss_objectness: 0.0001 (0.0007)  loss_rpn_box_reg: 0.0004 (0.0009)  time: 0.4725  data: 0.0115  max mem: 1822\n",
      "Epoch: [0]  [2230/3343]  eta: 0:08:44  lr: 0.005000  loss: 0.0549 (0.0572)  loss_classifier: 0.0174 (0.0199)  loss_box_reg: 0.0344 (0.0357)  loss_objectness: 0.0001 (0.0007)  loss_rpn_box_reg: 0.0007 (0.0009)  time: 0.4641  data: 0.0101  max mem: 1822\n",
      "Epoch: [0]  [2240/3343]  eta: 0:08:40  lr: 0.005000  loss: 0.0537 (0.0573)  loss_classifier: 0.0126 (0.0200)  loss_box_reg: 0.0344 (0.0357)  loss_objectness: 0.0002 (0.0007)  loss_rpn_box_reg: 0.0008 (0.0009)  time: 0.4527  data: 0.0115  max mem: 1822\n",
      "Epoch: [0]  [2250/3343]  eta: 0:08:35  lr: 0.005000  loss: 0.0512 (0.0573)  loss_classifier: 0.0136 (0.0200)  loss_box_reg: 0.0360 (0.0357)  loss_objectness: 0.0003 (0.0007)  loss_rpn_box_reg: 0.0006 (0.0009)  time: 0.4534  data: 0.0115  max mem: 1822\n",
      "Epoch: [0]  [2260/3343]  eta: 0:08:30  lr: 0.005000  loss: 0.0469 (0.0573)  loss_classifier: 0.0112 (0.0200)  loss_box_reg: 0.0348 (0.0357)  loss_objectness: 0.0003 (0.0007)  loss_rpn_box_reg: 0.0005 (0.0009)  time: 0.4727  data: 0.0144  max mem: 1822\n",
      "Epoch: [0]  [2270/3343]  eta: 0:08:25  lr: 0.005000  loss: 0.0536 (0.0574)  loss_classifier: 0.0136 (0.0200)  loss_box_reg: 0.0355 (0.0358)  loss_objectness: 0.0002 (0.0008)  loss_rpn_box_reg: 0.0004 (0.0009)  time: 0.4806  data: 0.0163  max mem: 1822\n",
      "Epoch: [0]  [2280/3343]  eta: 0:08:21  lr: 0.005000  loss: 0.0648 (0.0575)  loss_classifier: 0.0162 (0.0201)  loss_box_reg: 0.0415 (0.0358)  loss_objectness: 0.0004 (0.0008)  loss_rpn_box_reg: 0.0006 (0.0009)  time: 0.4617  data: 0.0121  max mem: 1822\n",
      "Epoch: [0]  [2290/3343]  eta: 0:08:16  lr: 0.005000  loss: 0.0651 (0.0576)  loss_classifier: 0.0185 (0.0201)  loss_box_reg: 0.0418 (0.0358)  loss_objectness: 0.0003 (0.0008)  loss_rpn_box_reg: 0.0009 (0.0009)  time: 0.4745  data: 0.0189  max mem: 1822\n",
      "Epoch: [0]  [2300/3343]  eta: 0:08:11  lr: 0.005000  loss: 0.0524 (0.0575)  loss_classifier: 0.0146 (0.0201)  loss_box_reg: 0.0337 (0.0358)  loss_objectness: 0.0003 (0.0008)  loss_rpn_box_reg: 0.0009 (0.0009)  time: 0.4778  data: 0.0215  max mem: 1822\n"
     ]
    },
    {
     "name": "stdout",
     "output_type": "stream",
     "text": [
      "Epoch: [0]  [2310/3343]  eta: 0:08:06  lr: 0.005000  loss: 0.0466 (0.0575)  loss_classifier: 0.0119 (0.0200)  loss_box_reg: 0.0302 (0.0358)  loss_objectness: 0.0003 (0.0008)  loss_rpn_box_reg: 0.0002 (0.0009)  time: 0.4595  data: 0.0121  max mem: 1822\n",
      "Epoch: [0]  [2320/3343]  eta: 0:08:02  lr: 0.005000  loss: 0.0480 (0.0575)  loss_classifier: 0.0144 (0.0200)  loss_box_reg: 0.0291 (0.0358)  loss_objectness: 0.0004 (0.0008)  loss_rpn_box_reg: 0.0005 (0.0009)  time: 0.4630  data: 0.0103  max mem: 1822\n",
      "Epoch: [0]  [2330/3343]  eta: 0:07:57  lr: 0.005000  loss: 0.0621 (0.0577)  loss_classifier: 0.0172 (0.0201)  loss_box_reg: 0.0332 (0.0359)  loss_objectness: 0.0015 (0.0008)  loss_rpn_box_reg: 0.0009 (0.0009)  time: 0.4669  data: 0.0093  max mem: 1822\n",
      "Epoch: [0]  [2340/3343]  eta: 0:07:52  lr: 0.005000  loss: 0.0814 (0.0578)  loss_classifier: 0.0165 (0.0201)  loss_box_reg: 0.0473 (0.0359)  loss_objectness: 0.0014 (0.0008)  loss_rpn_box_reg: 0.0007 (0.0009)  time: 0.4601  data: 0.0119  max mem: 1822\n",
      "Epoch: [0]  [2350/3343]  eta: 0:07:48  lr: 0.005000  loss: 0.0605 (0.0578)  loss_classifier: 0.0165 (0.0202)  loss_box_reg: 0.0388 (0.0359)  loss_objectness: 0.0003 (0.0008)  loss_rpn_box_reg: 0.0005 (0.0009)  time: 0.4765  data: 0.0226  max mem: 1822\n",
      "Epoch: [0]  [2360/3343]  eta: 0:07:43  lr: 0.005000  loss: 0.0605 (0.0578)  loss_classifier: 0.0193 (0.0202)  loss_box_reg: 0.0300 (0.0359)  loss_objectness: 0.0003 (0.0008)  loss_rpn_box_reg: 0.0006 (0.0009)  time: 0.4761  data: 0.0205  max mem: 1822\n",
      "Epoch: [0]  [2370/3343]  eta: 0:07:38  lr: 0.005000  loss: 0.0484 (0.0578)  loss_classifier: 0.0182 (0.0202)  loss_box_reg: 0.0319 (0.0359)  loss_objectness: 0.0003 (0.0008)  loss_rpn_box_reg: 0.0005 (0.0009)  time: 0.4621  data: 0.0132  max mem: 1822\n",
      "Epoch: [0]  [2380/3343]  eta: 0:07:33  lr: 0.005000  loss: 0.0484 (0.0578)  loss_classifier: 0.0136 (0.0202)  loss_box_reg: 0.0323 (0.0359)  loss_objectness: 0.0003 (0.0008)  loss_rpn_box_reg: 0.0005 (0.0009)  time: 0.4570  data: 0.0164  max mem: 1822\n",
      "Epoch: [0]  [2390/3343]  eta: 0:07:28  lr: 0.005000  loss: 0.0592 (0.0578)  loss_classifier: 0.0136 (0.0202)  loss_box_reg: 0.0402 (0.0360)  loss_objectness: 0.0003 (0.0008)  loss_rpn_box_reg: 0.0005 (0.0009)  time: 0.4503  data: 0.0166  max mem: 1822\n",
      "Epoch: [0]  [2400/3343]  eta: 0:07:24  lr: 0.005000  loss: 0.0633 (0.0578)  loss_classifier: 0.0180 (0.0202)  loss_box_reg: 0.0402 (0.0360)  loss_objectness: 0.0004 (0.0008)  loss_rpn_box_reg: 0.0004 (0.0009)  time: 0.4624  data: 0.0189  max mem: 1822\n",
      "Epoch: [0]  [2410/3343]  eta: 0:07:19  lr: 0.005000  loss: 0.0473 (0.0578)  loss_classifier: 0.0143 (0.0201)  loss_box_reg: 0.0281 (0.0359)  loss_objectness: 0.0004 (0.0008)  loss_rpn_box_reg: 0.0003 (0.0009)  time: 0.4512  data: 0.0168  max mem: 1822\n",
      "Epoch: [0]  [2420/3343]  eta: 0:07:14  lr: 0.005000  loss: 0.0526 (0.0578)  loss_classifier: 0.0143 (0.0201)  loss_box_reg: 0.0338 (0.0360)  loss_objectness: 0.0004 (0.0008)  loss_rpn_box_reg: 0.0004 (0.0009)  time: 0.4494  data: 0.0122  max mem: 1822\n",
      "Epoch: [0]  [2430/3343]  eta: 0:07:09  lr: 0.005000  loss: 0.0561 (0.0579)  loss_classifier: 0.0152 (0.0202)  loss_box_reg: 0.0366 (0.0360)  loss_objectness: 0.0003 (0.0008)  loss_rpn_box_reg: 0.0004 (0.0009)  time: 0.4635  data: 0.0139  max mem: 1822\n",
      "Epoch: [0]  [2440/3343]  eta: 0:07:05  lr: 0.005000  loss: 0.0502 (0.0578)  loss_classifier: 0.0149 (0.0201)  loss_box_reg: 0.0268 (0.0360)  loss_objectness: 0.0002 (0.0008)  loss_rpn_box_reg: 0.0002 (0.0009)  time: 0.4568  data: 0.0098  max mem: 1822\n",
      "Epoch: [0]  [2450/3343]  eta: 0:07:00  lr: 0.005000  loss: 0.0492 (0.0579)  loss_classifier: 0.0155 (0.0202)  loss_box_reg: 0.0270 (0.0360)  loss_objectness: 0.0001 (0.0008)  loss_rpn_box_reg: 0.0002 (0.0009)  time: 0.4432  data: 0.0083  max mem: 1822\n",
      "Epoch: [0]  [2460/3343]  eta: 0:06:55  lr: 0.005000  loss: 0.0552 (0.0579)  loss_classifier: 0.0170 (0.0202)  loss_box_reg: 0.0350 (0.0360)  loss_objectness: 0.0002 (0.0008)  loss_rpn_box_reg: 0.0004 (0.0009)  time: 0.4551  data: 0.0126  max mem: 1822\n",
      "Epoch: [0]  [2470/3343]  eta: 0:06:50  lr: 0.005000  loss: 0.0657 (0.0580)  loss_classifier: 0.0183 (0.0202)  loss_box_reg: 0.0369 (0.0361)  loss_objectness: 0.0004 (0.0008)  loss_rpn_box_reg: 0.0005 (0.0009)  time: 0.4614  data: 0.0133  max mem: 1822\n",
      "Epoch: [0]  [2480/3343]  eta: 0:06:46  lr: 0.005000  loss: 0.0669 (0.0580)  loss_classifier: 0.0220 (0.0202)  loss_box_reg: 0.0369 (0.0361)  loss_objectness: 0.0005 (0.0008)  loss_rpn_box_reg: 0.0005 (0.0009)  time: 0.4597  data: 0.0129  max mem: 1822\n",
      "Epoch: [0]  [2490/3343]  eta: 0:06:41  lr: 0.005000  loss: 0.0516 (0.0580)  loss_classifier: 0.0145 (0.0202)  loss_box_reg: 0.0327 (0.0361)  loss_objectness: 0.0005 (0.0008)  loss_rpn_box_reg: 0.0004 (0.0009)  time: 0.4602  data: 0.0144  max mem: 1822\n",
      "Epoch: [0]  [2500/3343]  eta: 0:06:36  lr: 0.005000  loss: 0.0475 (0.0580)  loss_classifier: 0.0105 (0.0202)  loss_box_reg: 0.0323 (0.0361)  loss_objectness: 0.0002 (0.0008)  loss_rpn_box_reg: 0.0003 (0.0009)  time: 0.4546  data: 0.0141  max mem: 1822\n",
      "Epoch: [0]  [2510/3343]  eta: 0:06:31  lr: 0.005000  loss: 0.0560 (0.0580)  loss_classifier: 0.0128 (0.0202)  loss_box_reg: 0.0397 (0.0361)  loss_objectness: 0.0002 (0.0008)  loss_rpn_box_reg: 0.0004 (0.0009)  time: 0.4703  data: 0.0133  max mem: 1822\n",
      "Epoch: [0]  [2520/3343]  eta: 0:06:27  lr: 0.005000  loss: 0.0502 (0.0580)  loss_classifier: 0.0133 (0.0202)  loss_box_reg: 0.0323 (0.0361)  loss_objectness: 0.0002 (0.0008)  loss_rpn_box_reg: 0.0005 (0.0009)  time: 0.4722  data: 0.0141  max mem: 1822\n",
      "Epoch: [0]  [2530/3343]  eta: 0:06:22  lr: 0.005000  loss: 0.0511 (0.0580)  loss_classifier: 0.0140 (0.0202)  loss_box_reg: 0.0323 (0.0361)  loss_objectness: 0.0002 (0.0008)  loss_rpn_box_reg: 0.0005 (0.0009)  time: 0.4710  data: 0.0128  max mem: 1822\n",
      "Epoch: [0]  [2540/3343]  eta: 0:06:17  lr: 0.005000  loss: 0.0590 (0.0581)  loss_classifier: 0.0150 (0.0202)  loss_box_reg: 0.0406 (0.0362)  loss_objectness: 0.0003 (0.0008)  loss_rpn_box_reg: 0.0006 (0.0009)  time: 0.4761  data: 0.0123  max mem: 1822\n",
      "Epoch: [0]  [2550/3343]  eta: 0:06:13  lr: 0.005000  loss: 0.0547 (0.0581)  loss_classifier: 0.0138 (0.0202)  loss_box_reg: 0.0387 (0.0362)  loss_objectness: 0.0003 (0.0008)  loss_rpn_box_reg: 0.0005 (0.0009)  time: 0.4725  data: 0.0112  max mem: 1822\n",
      "Epoch: [0]  [2560/3343]  eta: 0:06:08  lr: 0.005000  loss: 0.0542 (0.0581)  loss_classifier: 0.0122 (0.0202)  loss_box_reg: 0.0374 (0.0361)  loss_objectness: 0.0002 (0.0008)  loss_rpn_box_reg: 0.0009 (0.0009)  time: 0.4790  data: 0.0120  max mem: 1822\n",
      "Epoch: [0]  [2570/3343]  eta: 0:06:03  lr: 0.005000  loss: 0.0602 (0.0581)  loss_classifier: 0.0187 (0.0202)  loss_box_reg: 0.0375 (0.0362)  loss_objectness: 0.0001 (0.0008)  loss_rpn_box_reg: 0.0009 (0.0009)  time: 0.4708  data: 0.0148  max mem: 1822\n",
      "Epoch: [0]  [2580/3343]  eta: 0:05:58  lr: 0.005000  loss: 0.0583 (0.0581)  loss_classifier: 0.0181 (0.0202)  loss_box_reg: 0.0380 (0.0362)  loss_objectness: 0.0001 (0.0008)  loss_rpn_box_reg: 0.0007 (0.0009)  time: 0.4432  data: 0.0129  max mem: 1822\n",
      "Epoch: [0]  [2590/3343]  eta: 0:05:54  lr: 0.005000  loss: 0.0531 (0.0581)  loss_classifier: 0.0142 (0.0202)  loss_box_reg: 0.0380 (0.0362)  loss_objectness: 0.0001 (0.0008)  loss_rpn_box_reg: 0.0007 (0.0009)  time: 0.4526  data: 0.0145  max mem: 1822\n",
      "Epoch: [0]  [2600/3343]  eta: 0:05:49  lr: 0.005000  loss: 0.0531 (0.0580)  loss_classifier: 0.0119 (0.0202)  loss_box_reg: 0.0330 (0.0362)  loss_objectness: 0.0001 (0.0008)  loss_rpn_box_reg: 0.0006 (0.0009)  time: 0.4654  data: 0.0157  max mem: 1822\n",
      "Epoch: [0]  [2610/3343]  eta: 0:05:44  lr: 0.005000  loss: 0.0476 (0.0581)  loss_classifier: 0.0137 (0.0202)  loss_box_reg: 0.0291 (0.0362)  loss_objectness: 0.0001 (0.0008)  loss_rpn_box_reg: 0.0005 (0.0009)  time: 0.4561  data: 0.0124  max mem: 1822\n",
      "Epoch: [0]  [2620/3343]  eta: 0:05:40  lr: 0.005000  loss: 0.0469 (0.0580)  loss_classifier: 0.0137 (0.0202)  loss_box_reg: 0.0315 (0.0362)  loss_objectness: 0.0001 (0.0008)  loss_rpn_box_reg: 0.0005 (0.0009)  time: 0.4709  data: 0.0120  max mem: 1822\n",
      "Epoch: [0]  [2630/3343]  eta: 0:05:35  lr: 0.005000  loss: 0.0469 (0.0580)  loss_classifier: 0.0126 (0.0201)  loss_box_reg: 0.0302 (0.0362)  loss_objectness: 0.0001 (0.0008)  loss_rpn_box_reg: 0.0005 (0.0009)  time: 0.4830  data: 0.0132  max mem: 1822\n"
     ]
    },
    {
     "name": "stdout",
     "output_type": "stream",
     "text": [
      "Epoch: [0]  [2640/3343]  eta: 0:05:30  lr: 0.005000  loss: 0.0505 (0.0581)  loss_classifier: 0.0132 (0.0202)  loss_box_reg: 0.0302 (0.0362)  loss_objectness: 0.0002 (0.0008)  loss_rpn_box_reg: 0.0005 (0.0009)  time: 0.4687  data: 0.0127  max mem: 1822\n",
      "Epoch: [0]  [2650/3343]  eta: 0:05:25  lr: 0.005000  loss: 0.0505 (0.0581)  loss_classifier: 0.0154 (0.0202)  loss_box_reg: 0.0327 (0.0362)  loss_objectness: 0.0002 (0.0008)  loss_rpn_box_reg: 0.0005 (0.0009)  time: 0.4570  data: 0.0125  max mem: 1822\n",
      "Epoch: [0]  [2660/3343]  eta: 0:05:21  lr: 0.005000  loss: 0.0485 (0.0581)  loss_classifier: 0.0151 (0.0202)  loss_box_reg: 0.0316 (0.0362)  loss_objectness: 0.0002 (0.0008)  loss_rpn_box_reg: 0.0005 (0.0009)  time: 0.4531  data: 0.0112  max mem: 1822\n",
      "Epoch: [0]  [2670/3343]  eta: 0:05:16  lr: 0.005000  loss: 0.0510 (0.0580)  loss_classifier: 0.0128 (0.0202)  loss_box_reg: 0.0322 (0.0362)  loss_objectness: 0.0002 (0.0008)  loss_rpn_box_reg: 0.0007 (0.0009)  time: 0.4630  data: 0.0107  max mem: 1822\n",
      "Epoch: [0]  [2680/3343]  eta: 0:05:11  lr: 0.005000  loss: 0.0510 (0.0581)  loss_classifier: 0.0184 (0.0202)  loss_box_reg: 0.0312 (0.0362)  loss_objectness: 0.0001 (0.0008)  loss_rpn_box_reg: 0.0005 (0.0009)  time: 0.4742  data: 0.0101  max mem: 1822\n",
      "Epoch: [0]  [2690/3343]  eta: 0:05:07  lr: 0.005000  loss: 0.0505 (0.0580)  loss_classifier: 0.0171 (0.0202)  loss_box_reg: 0.0288 (0.0362)  loss_objectness: 0.0001 (0.0008)  loss_rpn_box_reg: 0.0004 (0.0009)  time: 0.4605  data: 0.0149  max mem: 1822\n",
      "Epoch: [0]  [2700/3343]  eta: 0:05:02  lr: 0.005000  loss: 0.0488 (0.0580)  loss_classifier: 0.0143 (0.0202)  loss_box_reg: 0.0288 (0.0361)  loss_objectness: 0.0001 (0.0008)  loss_rpn_box_reg: 0.0004 (0.0009)  time: 0.4502  data: 0.0185  max mem: 1822\n",
      "Epoch: [0]  [2710/3343]  eta: 0:04:57  lr: 0.005000  loss: 0.0484 (0.0580)  loss_classifier: 0.0148 (0.0201)  loss_box_reg: 0.0291 (0.0361)  loss_objectness: 0.0001 (0.0008)  loss_rpn_box_reg: 0.0004 (0.0009)  time: 0.4503  data: 0.0153  max mem: 1822\n",
      "Epoch: [0]  [2720/3343]  eta: 0:04:52  lr: 0.005000  loss: 0.0521 (0.0580)  loss_classifier: 0.0164 (0.0202)  loss_box_reg: 0.0327 (0.0362)  loss_objectness: 0.0001 (0.0008)  loss_rpn_box_reg: 0.0004 (0.0009)  time: 0.4579  data: 0.0156  max mem: 1822\n",
      "Epoch: [0]  [2730/3343]  eta: 0:04:48  lr: 0.005000  loss: 0.0439 (0.0579)  loss_classifier: 0.0138 (0.0201)  loss_box_reg: 0.0321 (0.0361)  loss_objectness: 0.0001 (0.0008)  loss_rpn_box_reg: 0.0004 (0.0009)  time: 0.4773  data: 0.0160  max mem: 1822\n",
      "Epoch: [0]  [2740/3343]  eta: 0:04:43  lr: 0.005000  loss: 0.0438 (0.0580)  loss_classifier: 0.0129 (0.0201)  loss_box_reg: 0.0295 (0.0362)  loss_objectness: 0.0001 (0.0008)  loss_rpn_box_reg: 0.0006 (0.0009)  time: 0.4834  data: 0.0159  max mem: 1822\n",
      "Epoch: [0]  [2750/3343]  eta: 0:04:38  lr: 0.005000  loss: 0.0441 (0.0580)  loss_classifier: 0.0124 (0.0201)  loss_box_reg: 0.0315 (0.0362)  loss_objectness: 0.0002 (0.0008)  loss_rpn_box_reg: 0.0006 (0.0009)  time: 0.4704  data: 0.0136  max mem: 1822\n",
      "Epoch: [0]  [2760/3343]  eta: 0:04:34  lr: 0.005000  loss: 0.0441 (0.0579)  loss_classifier: 0.0116 (0.0201)  loss_box_reg: 0.0292 (0.0361)  loss_objectness: 0.0001 (0.0008)  loss_rpn_box_reg: 0.0004 (0.0009)  time: 0.4713  data: 0.0106  max mem: 1822\n",
      "Epoch: [0]  [2770/3343]  eta: 0:04:29  lr: 0.005000  loss: 0.0434 (0.0579)  loss_classifier: 0.0135 (0.0201)  loss_box_reg: 0.0292 (0.0361)  loss_objectness: 0.0001 (0.0008)  loss_rpn_box_reg: 0.0006 (0.0009)  time: 0.4674  data: 0.0103  max mem: 1822\n",
      "Epoch: [0]  [2780/3343]  eta: 0:04:24  lr: 0.005000  loss: 0.0426 (0.0579)  loss_classifier: 0.0124 (0.0201)  loss_box_reg: 0.0326 (0.0361)  loss_objectness: 0.0001 (0.0008)  loss_rpn_box_reg: 0.0005 (0.0009)  time: 0.4426  data: 0.0088  max mem: 1822\n",
      "Epoch: [0]  [2790/3343]  eta: 0:04:19  lr: 0.005000  loss: 0.0426 (0.0578)  loss_classifier: 0.0131 (0.0201)  loss_box_reg: 0.0325 (0.0361)  loss_objectness: 0.0001 (0.0008)  loss_rpn_box_reg: 0.0005 (0.0009)  time: 0.4460  data: 0.0082  max mem: 1822\n",
      "Epoch: [0]  [2800/3343]  eta: 0:04:15  lr: 0.005000  loss: 0.0471 (0.0578)  loss_classifier: 0.0140 (0.0201)  loss_box_reg: 0.0333 (0.0361)  loss_objectness: 0.0001 (0.0008)  loss_rpn_box_reg: 0.0005 (0.0009)  time: 0.4600  data: 0.0117  max mem: 1822\n",
      "Epoch: [0]  [2810/3343]  eta: 0:04:10  lr: 0.005000  loss: 0.0563 (0.0578)  loss_classifier: 0.0150 (0.0201)  loss_box_reg: 0.0414 (0.0361)  loss_objectness: 0.0001 (0.0008)  loss_rpn_box_reg: 0.0008 (0.0009)  time: 0.4503  data: 0.0098  max mem: 1822\n",
      "Epoch: [0]  [2820/3343]  eta: 0:04:05  lr: 0.005000  loss: 0.0590 (0.0579)  loss_classifier: 0.0179 (0.0201)  loss_box_reg: 0.0401 (0.0361)  loss_objectness: 0.0003 (0.0008)  loss_rpn_box_reg: 0.0004 (0.0009)  time: 0.4560  data: 0.0112  max mem: 1822\n",
      "Epoch: [0]  [2830/3343]  eta: 0:04:00  lr: 0.005000  loss: 0.0487 (0.0578)  loss_classifier: 0.0126 (0.0201)  loss_box_reg: 0.0331 (0.0361)  loss_objectness: 0.0003 (0.0008)  loss_rpn_box_reg: 0.0005 (0.0009)  time: 0.4615  data: 0.0151  max mem: 1822\n",
      "Epoch: [0]  [2840/3343]  eta: 0:03:56  lr: 0.005000  loss: 0.0472 (0.0578)  loss_classifier: 0.0123 (0.0201)  loss_box_reg: 0.0312 (0.0361)  loss_objectness: 0.0002 (0.0008)  loss_rpn_box_reg: 0.0005 (0.0009)  time: 0.4591  data: 0.0133  max mem: 1822\n",
      "Epoch: [0]  [2850/3343]  eta: 0:03:51  lr: 0.005000  loss: 0.0476 (0.0578)  loss_classifier: 0.0134 (0.0201)  loss_box_reg: 0.0305 (0.0361)  loss_objectness: 0.0001 (0.0008)  loss_rpn_box_reg: 0.0005 (0.0009)  time: 0.4560  data: 0.0132  max mem: 1822\n",
      "Epoch: [0]  [2860/3343]  eta: 0:03:46  lr: 0.005000  loss: 0.0521 (0.0579)  loss_classifier: 0.0136 (0.0201)  loss_box_reg: 0.0346 (0.0362)  loss_objectness: 0.0001 (0.0008)  loss_rpn_box_reg: 0.0005 (0.0009)  time: 0.4474  data: 0.0098  max mem: 1822\n",
      "Epoch: [0]  [2870/3343]  eta: 0:03:42  lr: 0.005000  loss: 0.0559 (0.0579)  loss_classifier: 0.0146 (0.0201)  loss_box_reg: 0.0347 (0.0362)  loss_objectness: 0.0001 (0.0008)  loss_rpn_box_reg: 0.0004 (0.0009)  time: 0.4497  data: 0.0117  max mem: 1822\n",
      "Epoch: [0]  [2880/3343]  eta: 0:03:37  lr: 0.005000  loss: 0.0416 (0.0579)  loss_classifier: 0.0135 (0.0201)  loss_box_reg: 0.0303 (0.0361)  loss_objectness: 0.0001 (0.0008)  loss_rpn_box_reg: 0.0005 (0.0009)  time: 0.4578  data: 0.0153  max mem: 1822\n",
      "Epoch: [0]  [2890/3343]  eta: 0:03:32  lr: 0.005000  loss: 0.0416 (0.0579)  loss_classifier: 0.0137 (0.0201)  loss_box_reg: 0.0303 (0.0361)  loss_objectness: 0.0003 (0.0008)  loss_rpn_box_reg: 0.0005 (0.0009)  time: 0.4729  data: 0.0147  max mem: 1822\n",
      "Epoch: [0]  [2900/3343]  eta: 0:03:27  lr: 0.005000  loss: 0.0558 (0.0579)  loss_classifier: 0.0153 (0.0201)  loss_box_reg: 0.0393 (0.0362)  loss_objectness: 0.0005 (0.0008)  loss_rpn_box_reg: 0.0005 (0.0009)  time: 0.4708  data: 0.0139  max mem: 1822\n",
      "Epoch: [0]  [2910/3343]  eta: 0:03:23  lr: 0.005000  loss: 0.0607 (0.0580)  loss_classifier: 0.0161 (0.0201)  loss_box_reg: 0.0385 (0.0362)  loss_objectness: 0.0006 (0.0008)  loss_rpn_box_reg: 0.0004 (0.0009)  time: 0.4615  data: 0.0149  max mem: 1822\n",
      "Epoch: [0]  [2920/3343]  eta: 0:03:18  lr: 0.005000  loss: 0.0522 (0.0580)  loss_classifier: 0.0184 (0.0201)  loss_box_reg: 0.0335 (0.0362)  loss_objectness: 0.0004 (0.0008)  loss_rpn_box_reg: 0.0005 (0.0009)  time: 0.4583  data: 0.0131  max mem: 1822\n",
      "Epoch: [0]  [2930/3343]  eta: 0:03:13  lr: 0.005000  loss: 0.0532 (0.0580)  loss_classifier: 0.0164 (0.0201)  loss_box_reg: 0.0335 (0.0361)  loss_objectness: 0.0003 (0.0008)  loss_rpn_box_reg: 0.0006 (0.0009)  time: 0.4611  data: 0.0121  max mem: 1822\n",
      "Epoch: [0]  [2940/3343]  eta: 0:03:09  lr: 0.005000  loss: 0.0532 (0.0580)  loss_classifier: 0.0160 (0.0201)  loss_box_reg: 0.0361 (0.0362)  loss_objectness: 0.0002 (0.0008)  loss_rpn_box_reg: 0.0005 (0.0009)  time: 0.4633  data: 0.0132  max mem: 1822\n",
      "Epoch: [0]  [2950/3343]  eta: 0:03:04  lr: 0.005000  loss: 0.0554 (0.0580)  loss_classifier: 0.0178 (0.0201)  loss_box_reg: 0.0362 (0.0362)  loss_objectness: 0.0003 (0.0008)  loss_rpn_box_reg: 0.0006 (0.0009)  time: 0.4757  data: 0.0173  max mem: 1822\n",
      "Epoch: [0]  [2960/3343]  eta: 0:02:59  lr: 0.005000  loss: 0.0546 (0.0580)  loss_classifier: 0.0156 (0.0201)  loss_box_reg: 0.0365 (0.0362)  loss_objectness: 0.0002 (0.0008)  loss_rpn_box_reg: 0.0008 (0.0009)  time: 0.4864  data: 0.0202  max mem: 1822\n"
     ]
    },
    {
     "name": "stdout",
     "output_type": "stream",
     "text": [
      "Epoch: [0]  [2970/3343]  eta: 0:02:55  lr: 0.005000  loss: 0.0491 (0.0579)  loss_classifier: 0.0139 (0.0201)  loss_box_reg: 0.0301 (0.0361)  loss_objectness: 0.0001 (0.0008)  loss_rpn_box_reg: 0.0006 (0.0009)  time: 0.4772  data: 0.0141  max mem: 1822\n",
      "Epoch: [0]  [2980/3343]  eta: 0:02:50  lr: 0.005000  loss: 0.0557 (0.0579)  loss_classifier: 0.0164 (0.0201)  loss_box_reg: 0.0343 (0.0361)  loss_objectness: 0.0001 (0.0008)  loss_rpn_box_reg: 0.0006 (0.0009)  time: 0.4763  data: 0.0141  max mem: 1822\n",
      "Epoch: [0]  [2990/3343]  eta: 0:02:45  lr: 0.005000  loss: 0.0563 (0.0580)  loss_classifier: 0.0170 (0.0201)  loss_box_reg: 0.0368 (0.0361)  loss_objectness: 0.0001 (0.0008)  loss_rpn_box_reg: 0.0005 (0.0009)  time: 0.4819  data: 0.0173  max mem: 1822\n",
      "Epoch: [0]  [3000/3343]  eta: 0:02:41  lr: 0.005000  loss: 0.0581 (0.0580)  loss_classifier: 0.0165 (0.0202)  loss_box_reg: 0.0368 (0.0362)  loss_objectness: 0.0002 (0.0008)  loss_rpn_box_reg: 0.0007 (0.0009)  time: 0.4783  data: 0.0161  max mem: 1822\n",
      "Epoch: [0]  [3010/3343]  eta: 0:02:36  lr: 0.005000  loss: 0.0533 (0.0580)  loss_classifier: 0.0124 (0.0201)  loss_box_reg: 0.0373 (0.0362)  loss_objectness: 0.0001 (0.0008)  loss_rpn_box_reg: 0.0005 (0.0009)  time: 0.4826  data: 0.0162  max mem: 1822\n",
      "Epoch: [0]  [3020/3343]  eta: 0:02:31  lr: 0.005000  loss: 0.0463 (0.0580)  loss_classifier: 0.0124 (0.0201)  loss_box_reg: 0.0324 (0.0362)  loss_objectness: 0.0001 (0.0008)  loss_rpn_box_reg: 0.0005 (0.0009)  time: 0.4911  data: 0.0177  max mem: 1822\n",
      "Epoch: [0]  [3030/3343]  eta: 0:02:27  lr: 0.005000  loss: 0.0437 (0.0580)  loss_classifier: 0.0120 (0.0201)  loss_box_reg: 0.0314 (0.0362)  loss_objectness: 0.0002 (0.0008)  loss_rpn_box_reg: 0.0006 (0.0009)  time: 0.4924  data: 0.0172  max mem: 1822\n",
      "Epoch: [0]  [3040/3343]  eta: 0:02:22  lr: 0.005000  loss: 0.0460 (0.0580)  loss_classifier: 0.0136 (0.0201)  loss_box_reg: 0.0323 (0.0362)  loss_objectness: 0.0002 (0.0008)  loss_rpn_box_reg: 0.0006 (0.0009)  time: 0.4918  data: 0.0160  max mem: 1822\n",
      "Epoch: [0]  [3050/3343]  eta: 0:02:17  lr: 0.005000  loss: 0.0477 (0.0580)  loss_classifier: 0.0143 (0.0202)  loss_box_reg: 0.0314 (0.0362)  loss_objectness: 0.0002 (0.0008)  loss_rpn_box_reg: 0.0006 (0.0009)  time: 0.4831  data: 0.0134  max mem: 1822\n",
      "Epoch: [0]  [3060/3343]  eta: 0:02:12  lr: 0.005000  loss: 0.0482 (0.0580)  loss_classifier: 0.0145 (0.0202)  loss_box_reg: 0.0299 (0.0362)  loss_objectness: 0.0001 (0.0008)  loss_rpn_box_reg: 0.0004 (0.0009)  time: 0.4706  data: 0.0133  max mem: 1822\n",
      "Epoch: [0]  [3070/3343]  eta: 0:02:08  lr: 0.005000  loss: 0.0448 (0.0580)  loss_classifier: 0.0139 (0.0202)  loss_box_reg: 0.0299 (0.0362)  loss_objectness: 0.0001 (0.0008)  loss_rpn_box_reg: 0.0004 (0.0009)  time: 0.4743  data: 0.0164  max mem: 1822\n",
      "Epoch: [0]  [3080/3343]  eta: 0:02:03  lr: 0.005000  loss: 0.0462 (0.0580)  loss_classifier: 0.0138 (0.0202)  loss_box_reg: 0.0272 (0.0362)  loss_objectness: 0.0001 (0.0008)  loss_rpn_box_reg: 0.0004 (0.0009)  time: 0.4733  data: 0.0163  max mem: 1822\n",
      "Epoch: [0]  [3090/3343]  eta: 0:01:58  lr: 0.005000  loss: 0.0569 (0.0580)  loss_classifier: 0.0168 (0.0202)  loss_box_reg: 0.0367 (0.0362)  loss_objectness: 0.0001 (0.0008)  loss_rpn_box_reg: 0.0003 (0.0009)  time: 0.4707  data: 0.0136  max mem: 1822\n",
      "Epoch: [0]  [3100/3343]  eta: 0:01:54  lr: 0.005000  loss: 0.0495 (0.0580)  loss_classifier: 0.0156 (0.0201)  loss_box_reg: 0.0342 (0.0362)  loss_objectness: 0.0001 (0.0008)  loss_rpn_box_reg: 0.0006 (0.0009)  time: 0.4760  data: 0.0121  max mem: 1822\n",
      "Epoch: [0]  [3110/3343]  eta: 0:01:49  lr: 0.005000  loss: 0.0480 (0.0580)  loss_classifier: 0.0144 (0.0201)  loss_box_reg: 0.0333 (0.0362)  loss_objectness: 0.0001 (0.0008)  loss_rpn_box_reg: 0.0003 (0.0009)  time: 0.4763  data: 0.0127  max mem: 1822\n",
      "Epoch: [0]  [3120/3343]  eta: 0:01:44  lr: 0.005000  loss: 0.0466 (0.0580)  loss_classifier: 0.0144 (0.0201)  loss_box_reg: 0.0321 (0.0362)  loss_objectness: 0.0001 (0.0008)  loss_rpn_box_reg: 0.0002 (0.0009)  time: 0.4755  data: 0.0141  max mem: 1822\n",
      "Epoch: [0]  [3130/3343]  eta: 0:01:40  lr: 0.005000  loss: 0.0510 (0.0580)  loss_classifier: 0.0112 (0.0201)  loss_box_reg: 0.0388 (0.0362)  loss_objectness: 0.0001 (0.0008)  loss_rpn_box_reg: 0.0003 (0.0009)  time: 0.4646  data: 0.0115  max mem: 1822\n",
      "Epoch: [0]  [3140/3343]  eta: 0:01:35  lr: 0.005000  loss: 0.0543 (0.0580)  loss_classifier: 0.0116 (0.0201)  loss_box_reg: 0.0398 (0.0362)  loss_objectness: 0.0001 (0.0008)  loss_rpn_box_reg: 0.0006 (0.0009)  time: 0.4696  data: 0.0118  max mem: 1822\n",
      "Epoch: [0]  [3150/3343]  eta: 0:01:30  lr: 0.005000  loss: 0.0438 (0.0580)  loss_classifier: 0.0095 (0.0201)  loss_box_reg: 0.0324 (0.0362)  loss_objectness: 0.0001 (0.0008)  loss_rpn_box_reg: 0.0004 (0.0009)  time: 0.5121  data: 0.0168  max mem: 1822\n",
      "Epoch: [0]  [3160/3343]  eta: 0:01:26  lr: 0.005000  loss: 0.0502 (0.0579)  loss_classifier: 0.0153 (0.0201)  loss_box_reg: 0.0335 (0.0362)  loss_objectness: 0.0001 (0.0008)  loss_rpn_box_reg: 0.0005 (0.0009)  time: 0.5209  data: 0.0237  max mem: 1822\n",
      "Epoch: [0]  [3170/3343]  eta: 0:01:21  lr: 0.005000  loss: 0.0490 (0.0579)  loss_classifier: 0.0146 (0.0201)  loss_box_reg: 0.0276 (0.0362)  loss_objectness: 0.0001 (0.0008)  loss_rpn_box_reg: 0.0005 (0.0009)  time: 0.5116  data: 0.0227  max mem: 1822\n",
      "Epoch: [0]  [3180/3343]  eta: 0:01:16  lr: 0.005000  loss: 0.0431 (0.0579)  loss_classifier: 0.0142 (0.0201)  loss_box_reg: 0.0273 (0.0362)  loss_objectness: 0.0001 (0.0007)  loss_rpn_box_reg: 0.0005 (0.0009)  time: 0.5023  data: 0.0155  max mem: 1822\n",
      "Epoch: [0]  [3190/3343]  eta: 0:01:11  lr: 0.005000  loss: 0.0515 (0.0580)  loss_classifier: 0.0162 (0.0201)  loss_box_reg: 0.0296 (0.0362)  loss_objectness: 0.0001 (0.0007)  loss_rpn_box_reg: 0.0003 (0.0009)  time: 0.4807  data: 0.0136  max mem: 1822\n",
      "Epoch: [0]  [3200/3343]  eta: 0:01:07  lr: 0.005000  loss: 0.0640 (0.0580)  loss_classifier: 0.0162 (0.0201)  loss_box_reg: 0.0372 (0.0363)  loss_objectness: 0.0001 (0.0007)  loss_rpn_box_reg: 0.0003 (0.0009)  time: 0.4760  data: 0.0155  max mem: 1822\n",
      "Epoch: [0]  [3210/3343]  eta: 0:01:02  lr: 0.005000  loss: 0.0507 (0.0580)  loss_classifier: 0.0138 (0.0201)  loss_box_reg: 0.0345 (0.0363)  loss_objectness: 0.0002 (0.0008)  loss_rpn_box_reg: 0.0005 (0.0009)  time: 0.4684  data: 0.0164  max mem: 1822\n",
      "Epoch: [0]  [3220/3343]  eta: 0:00:57  lr: 0.005000  loss: 0.0441 (0.0580)  loss_classifier: 0.0129 (0.0201)  loss_box_reg: 0.0279 (0.0363)  loss_objectness: 0.0001 (0.0007)  loss_rpn_box_reg: 0.0004 (0.0009)  time: 0.4729  data: 0.0176  max mem: 1822\n",
      "Epoch: [0]  [3230/3343]  eta: 0:00:53  lr: 0.005000  loss: 0.0484 (0.0580)  loss_classifier: 0.0129 (0.0201)  loss_box_reg: 0.0301 (0.0363)  loss_objectness: 0.0001 (0.0007)  loss_rpn_box_reg: 0.0004 (0.0009)  time: 0.4909  data: 0.0218  max mem: 1822\n",
      "Epoch: [0]  [3240/3343]  eta: 0:00:48  lr: 0.005000  loss: 0.0484 (0.0579)  loss_classifier: 0.0131 (0.0201)  loss_box_reg: 0.0288 (0.0363)  loss_objectness: 0.0001 (0.0007)  loss_rpn_box_reg: 0.0004 (0.0009)  time: 0.4995  data: 0.0205  max mem: 1822\n",
      "Epoch: [0]  [3250/3343]  eta: 0:00:43  lr: 0.005000  loss: 0.0574 (0.0580)  loss_classifier: 0.0154 (0.0201)  loss_box_reg: 0.0398 (0.0363)  loss_objectness: 0.0001 (0.0007)  loss_rpn_box_reg: 0.0004 (0.0009)  time: 0.4908  data: 0.0144  max mem: 1822\n",
      "Epoch: [0]  [3260/3343]  eta: 0:00:39  lr: 0.005000  loss: 0.0561 (0.0579)  loss_classifier: 0.0153 (0.0200)  loss_box_reg: 0.0356 (0.0362)  loss_objectness: 0.0001 (0.0007)  loss_rpn_box_reg: 0.0004 (0.0009)  time: 0.4827  data: 0.0131  max mem: 1822\n",
      "Epoch: [0]  [3270/3343]  eta: 0:00:34  lr: 0.005000  loss: 0.0489 (0.0579)  loss_classifier: 0.0120 (0.0200)  loss_box_reg: 0.0314 (0.0362)  loss_objectness: 0.0001 (0.0007)  loss_rpn_box_reg: 0.0004 (0.0009)  time: 0.4854  data: 0.0122  max mem: 1822\n",
      "Epoch: [0]  [3280/3343]  eta: 0:00:29  lr: 0.005000  loss: 0.0477 (0.0579)  loss_classifier: 0.0129 (0.0200)  loss_box_reg: 0.0296 (0.0362)  loss_objectness: 0.0001 (0.0007)  loss_rpn_box_reg: 0.0004 (0.0009)  time: 0.4951  data: 0.0165  max mem: 1822\n",
      "Epoch: [0]  [3290/3343]  eta: 0:00:24  lr: 0.005000  loss: 0.0475 (0.0579)  loss_classifier: 0.0157 (0.0200)  loss_box_reg: 0.0314 (0.0362)  loss_objectness: 0.0001 (0.0007)  loss_rpn_box_reg: 0.0004 (0.0009)  time: 0.4990  data: 0.0201  max mem: 1822\n"
     ]
    },
    {
     "name": "stdout",
     "output_type": "stream",
     "text": [
      "Epoch: [0]  [3300/3343]  eta: 0:00:20  lr: 0.005000  loss: 0.0604 (0.0579)  loss_classifier: 0.0174 (0.0200)  loss_box_reg: 0.0343 (0.0362)  loss_objectness: 0.0001 (0.0007)  loss_rpn_box_reg: 0.0006 (0.0009)  time: 0.5059  data: 0.0206  max mem: 1822\n",
      "Epoch: [0]  [3310/3343]  eta: 0:00:15  lr: 0.005000  loss: 0.0504 (0.0579)  loss_classifier: 0.0134 (0.0200)  loss_box_reg: 0.0296 (0.0362)  loss_objectness: 0.0001 (0.0007)  loss_rpn_box_reg: 0.0006 (0.0009)  time: 0.5468  data: 0.0290  max mem: 1822\n",
      "Epoch: [0]  [3320/3343]  eta: 0:00:10  lr: 0.005000  loss: 0.0527 (0.0579)  loss_classifier: 0.0119 (0.0200)  loss_box_reg: 0.0348 (0.0362)  loss_objectness: 0.0001 (0.0007)  loss_rpn_box_reg: 0.0004 (0.0009)  time: 0.5891  data: 0.0432  max mem: 1822\n",
      "Epoch: [0]  [3330/3343]  eta: 0:00:06  lr: 0.005000  loss: 0.0527 (0.0579)  loss_classifier: 0.0169 (0.0200)  loss_box_reg: 0.0352 (0.0362)  loss_objectness: 0.0001 (0.0007)  loss_rpn_box_reg: 0.0003 (0.0009)  time: 0.5961  data: 0.0478  max mem: 1822\n",
      "Epoch: [0]  [3340/3343]  eta: 0:00:01  lr: 0.005000  loss: 0.0537 (0.0579)  loss_classifier: 0.0169 (0.0201)  loss_box_reg: 0.0342 (0.0362)  loss_objectness: 0.0001 (0.0007)  loss_rpn_box_reg: 0.0005 (0.0009)  time: 0.5913  data: 0.0556  max mem: 1822\n",
      "Epoch: [0]  [3342/3343]  eta: 0:00:00  lr: 0.005000  loss: 0.0506 (0.0579)  loss_classifier: 0.0162 (0.0201)  loss_box_reg: 0.0328 (0.0362)  loss_objectness: 0.0001 (0.0007)  loss_rpn_box_reg: 0.0004 (0.0009)  time: 0.5842  data: 0.0541  max mem: 1822\n",
      "Epoch: [0] Total time: 0:26:20 (0.4727 s / it)\n",
      "creating index...\n",
      "index created!\n",
      "Test:  [  0/836]  eta: 0:02:39  model_time: 0.1795 (0.1795)  evaluator_time: 0.0020 (0.0020)  time: 0.1905  data: 0.0070  max mem: 1822\n",
      "Test:  [100/836]  eta: 0:02:14  model_time: 0.1775 (0.1724)  evaluator_time: 0.0020 (0.0022)  time: 0.1810  data: 0.0068  max mem: 1822\n",
      "Test:  [200/836]  eta: 0:01:56  model_time: 0.1725 (0.1721)  evaluator_time: 0.0020 (0.0022)  time: 0.1839  data: 0.0068  max mem: 1822\n",
      "Test:  [300/836]  eta: 0:01:38  model_time: 0.1745 (0.1724)  evaluator_time: 0.0030 (0.0023)  time: 0.1904  data: 0.0120  max mem: 1822\n",
      "Test:  [400/836]  eta: 0:01:21  model_time: 0.1845 (0.1745)  evaluator_time: 0.0020 (0.0023)  time: 0.2042  data: 0.0109  max mem: 1822\n",
      "Test:  [500/836]  eta: 0:01:02  model_time: 0.1785 (0.1747)  evaluator_time: 0.0020 (0.0023)  time: 0.1855  data: 0.0085  max mem: 1822\n",
      "Test:  [600/836]  eta: 0:00:44  model_time: 0.1775 (0.1751)  evaluator_time: 0.0030 (0.0024)  time: 0.1932  data: 0.0102  max mem: 1822\n",
      "Test:  [700/836]  eta: 0:00:25  model_time: 0.1826 (0.1762)  evaluator_time: 0.0030 (0.0025)  time: 0.2032  data: 0.0131  max mem: 1822\n",
      "Test:  [800/836]  eta: 0:00:06  model_time: 0.1795 (0.1767)  evaluator_time: 0.0030 (0.0026)  time: 0.1971  data: 0.0129  max mem: 1822\n",
      "Test:  [835/836]  eta: 0:00:00  model_time: 0.1825 (0.1769)  evaluator_time: 0.0030 (0.0026)  time: 0.1948  data: 0.0112  max mem: 1822\n",
      "Test: Total time: 0:02:39 (0.1903 s / it)\n",
      "Averaged stats: model_time: 0.1825 (0.1769)  evaluator_time: 0.0030 (0.0026)\n",
      "Accumulating evaluation results...\n",
      "DONE (t=0.12s).\n",
      "IoU metric: bbox\n",
      " Average Precision  (AP) @[ IoU=0.50:0.95 | area=   all | maxDets=100 ] = 0.652\n",
      " Average Precision  (AP) @[ IoU=0.50      | area=   all | maxDets=100 ] = 0.960\n",
      " Average Precision  (AP) @[ IoU=0.75      | area=   all | maxDets=100 ] = 0.830\n",
      " Average Precision  (AP) @[ IoU=0.50:0.95 | area= small | maxDets=100 ] = 0.800\n",
      " Average Precision  (AP) @[ IoU=0.50:0.95 | area=medium | maxDets=100 ] = 0.597\n",
      " Average Precision  (AP) @[ IoU=0.50:0.95 | area= large | maxDets=100 ] = 0.667\n",
      " Average Recall     (AR) @[ IoU=0.50:0.95 | area=   all | maxDets=  1 ] = 0.707\n",
      " Average Recall     (AR) @[ IoU=0.50:0.95 | area=   all | maxDets= 10 ] = 0.731\n",
      " Average Recall     (AR) @[ IoU=0.50:0.95 | area=   all | maxDets=100 ] = 0.731\n",
      " Average Recall     (AR) @[ IoU=0.50:0.95 | area= small | maxDets=100 ] = 0.800\n",
      " Average Recall     (AR) @[ IoU=0.50:0.95 | area=medium | maxDets=100 ] = 0.691\n",
      " Average Recall     (AR) @[ IoU=0.50:0.95 | area= large | maxDets=100 ] = 0.745\n"
     ]
    }
   ],
   "source": [
    "# let's train it for 10 epochs\n",
    "num_epochs = 1\n",
    "for epoch in range(num_epochs):\n",
    "        # train for one epoch, printing every 10 iterations\n",
    "    train_one_epoch(model, optimizer, data_loader, device, epoch,print_freq=10)# update the learning rate\n",
    "    lr_scheduler.step()\n",
    "        # evaluate on the test dataset\n",
    "    evaluate(model, data_loader_test, device=device)"
   ]
  },
  {
   "cell_type": "code",
   "execution_count": 26,
   "metadata": {},
   "outputs": [],
   "source": [
    "torch.save(model.state_dict(), \"model\")"
   ]
  },
  {
   "cell_type": "code",
   "execution_count": 27,
   "metadata": {},
   "outputs": [
    {
     "name": "stdout",
     "output_type": "stream",
     "text": [
      "True\n"
     ]
    },
    {
     "data": {
      "text/plain": [
       "<All keys matched successfully>"
      ]
     },
     "execution_count": 27,
     "metadata": {},
     "output_type": "execute_result"
    }
   ],
   "source": [
    "import numpy as np\n",
    "import cv2\n",
    "import matplotlib.pyplot as plt\n",
    "from torchvision.models.detection.faster_rcnn import FastRCNNPredictor\n",
    "import torch\n",
    "import torchvision.models as models\n",
    "import time\n",
    "\n",
    "def get_model(num_classes):\n",
    "    # load an object detection model pre-trained on COCO\n",
    "    model = models.detection.fasterrcnn_resnet50_fpn(pretrained=True)# get the number of input features for the classifier\n",
    "    in_features = model.roi_heads.box_predictor.cls_score.in_features\n",
    "    # replace the pre-trained head with a new on\n",
    "    model.roi_heads.box_predictor = FastRCNNPredictor(in_features,num_classes)\n",
    "    return model\n",
    "\n",
    "print(torch.cuda.is_available())\n",
    "loaded_model = get_model(num_classes = 2)\n",
    "device = torch.device('cuda') if torch.cuda.is_available() else torch.device('cpu')\n",
    "loaded_model.to(device)\n",
    "loaded_model.load_state_dict(torch.load(\"model\"))"
   ]
  },
  {
   "cell_type": "code",
   "execution_count": 49,
   "metadata": {
    "scrolled": true
   },
   "outputs": [
    {
     "name": "stdout",
     "output_type": "stream",
     "text": [
      "0.19448041915893555\n"
     ]
    },
    {
     "data": {
      "text/plain": [
       "<matplotlib.image.AxesImage at 0x26b84a36940>"
      ]
     },
     "execution_count": 49,
     "metadata": {},
     "output_type": "execute_result"
    },
    {
     "data": {
      "image/png": "[encoded data removed]",
      "text/plain": [
       "<Figure size 432x288 with 1 Axes>"
      ]
     },
     "metadata": {
      "needs_background": "light"
     },
     "output_type": "display_data"
    }
   ],
   "source": [
    "image = cv2.imread(\"Image/46.jpg\")\n",
    "img = cv2.normalize(image, None, alpha=0, beta=1, norm_type=cv2.NORM_MINMAX, dtype=cv2.CV_32F)\n",
    "img = torch.tensor(img.transpose(2,1,0)).cuda()\n",
    "\n",
    "#put the model in evaluation mode\n",
    "loaded_model.eval()\n",
    "\n",
    "with torch.no_grad():\n",
    "    a = time.time()\n",
    "    prediction = loaded_model([img])\n",
    "    b = time.time()\n",
    "    print(b-a)\n",
    "    \n",
    "for element in range(len(prediction[0][\"boxes\"])):\n",
    "    boxes = prediction[0][\"boxes\"][element].cpu().numpy()\n",
    "    score = np.round(prediction[0][\"scores\"][element].cpu().numpy(),decimals= 4)\n",
    "    cv2.rectangle(image, (int(boxes[1]), int(boxes[0])), (int(boxes[3]), int(boxes[2])), (0, 255, 0), 2, cv2.LINE_AA)\n",
    "    break\n",
    "         \n",
    "plt.figure()        \n",
    "plt.imshow(cv2.cvtColor(image, cv2.COLOR_BGR2RGB))"
   ]
  },
  {
   "cell_type": "code",
   "execution_count": null,
   "metadata": {},
   "outputs": [],
   "source": []
  }
 ],
 "metadata": {
  "kernelspec": {
   "display_name": "Python 3",
   "language": "python",
   "name": "python3"
  },
  "language_info": {
   "codemirror_mode": {
    "name": "ipython",
    "version": 3
   },
   "file_extension": ".py",
   "mimetype": "text/x-python",
   "name": "python",
   "nbconvert_exporter": "python",
   "pygments_lexer": "ipython3",
   "version": "3.8.5"
  }
 },
 "nbformat": 4,
 "nbformat_minor": 4
}
