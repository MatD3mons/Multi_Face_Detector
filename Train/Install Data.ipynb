{
 "cells": [
  {
   "cell_type": "code",
   "execution_count": null,
   "metadata": {},
   "outputs": [],
   "source": [
    "#Try with 2 image not 100 xD, it for Clear my databass\n",
    "for e,i in enumerate(os.listdir(path)):\n",
    "    print(i)\n",
    "    try:\n",
    "        img = cv2.imread(os.path.join(path,i))\n",
    "        detector = cv2.CascadeClassifier('haarcascade_frontalface_default.xml');\n",
    "        gray = cv2.cvtColor(img, cv2.COLOR_BGR2GRAY);\n",
    "        faces = detector.detectMultiScale(gray, 1.3, 5);\n",
    "        if len(faces) == 0:\n",
    "            print(\"Remove\")\n",
    "            os.remove(os.path.join(path,i))\n",
    "            os.remove(os.path.join(label,i[:-4]+\".csv\"))   \n",
    "        else:\n",
    "            print(\"pass\")\n",
    "    except:\n",
    "        print(\"Remove\")\n",
    "        os.remove(os.path.join(path,i))\n",
    "        os.remove(os.path.join(label,i[:-4]+\".csv\"))     "
   ]
  },
  {
   "cell_type": "code",
   "execution_count": null,
   "metadata": {},
   "outputs": [],
   "source": [
    "import requests\n",
    "\n",
    "THIS_FOLDER = os.path.dirname(os.path.abspath('Image'))\n",
    "my_file = os.path.join(os.path.join(THIS_FOLDER,'Image'), 'myfile.jpg')\n",
    "\n",
    "print(my_file)\n",
    "url = \"http://www.contactmusic.com/pics/ld/active_for_life_arrivals_090110/a.j_buckley_2706152.jpg\"\n",
    "\n",
    "r = requests.get(url, allow_redirects=True)\n",
    "open(my_file, 'wb').write(r.content)"
   ]
  },
  {
   "cell_type": "markdown",
   "metadata": {},
   "source": [
    "http://www.robots.ox.ac.uk/~vgg/data/vgg_face/"
   ]
  },
  {
   "cell_type": "code",
   "execution_count": null,
   "metadata": {},
   "outputs": [],
   "source": [
    "import urllib\n",
    "import requests\n",
    "import os\n",
    "import pandas as pd\n",
    "\n",
    "path = \"Image\"\n",
    "label = \"Label\"\n",
    "counter = 0\n",
    "\n",
    "Folder_Images = os.path.join(os.path.dirname(os.path.abspath('Image')),'Image')\n",
    "Folder_Labels = os.path.join(os.path.dirname(os.path.abspath('Label')),'Label')\n",
    "path = \"files\"\n",
    "\n",
    "for e,i in enumerate(os.listdir(path)):\n",
    "    try:\n",
    "        df = pd.read_csv(os.path.join(path,i), sep=\" \",header=None)\n",
    "        for x in range(len(df)):\n",
    "            file_name = str(counter)\n",
    "            url = df[1][x]\n",
    "            if url[-4:] == \".jpg\":\n",
    "                r = requests.get(url, allow_redirects=True)\n",
    "            \n",
    "                image = os.path.join(Folder_Images, str(counter)+\".jpg\")\n",
    "                csv = os.path.join(Folder_Labels, str(counter)+\".csv\")\n",
    "            \n",
    "                df2 = pd.DataFrame({'':[str(df[2][x])+\" \"+str(df[3][x])+\" \"+str(df[4][x])+\" \"+str(df[5][x])]})\n",
    "                \n",
    "                with open(image, 'wb') as img :\n",
    "                    img.write(r.content)\n",
    "                df2.to_csv(csv,index=False)\n",
    "                print(url)\n",
    "                counter += 1\n",
    "    except:   \n",
    "        print(\"Error\")\n",
    "        continue"
   ]
  },
  {
   "cell_type": "code",
   "execution_count": null,
   "metadata": {},
   "outputs": [],
   "source": []
  },
  {
   "cell_type": "code",
   "execution_count": null,
   "metadata": {},
   "outputs": [],
   "source": []
  }
 ],
 "metadata": {
  "kernelspec": {
   "display_name": "Python 3",
   "language": "python",
   "name": "python3"
  },
  "language_info": {
   "codemirror_mode": {
    "name": "ipython",
    "version": 3
   },
   "file_extension": ".py",
   "mimetype": "text/x-python",
   "name": "python",
   "nbconvert_exporter": "python",
   "pygments_lexer": "ipython3",
   "version": "3.8.5"
  }
 },
 "nbformat": 4,
 "nbformat_minor": 4
}
